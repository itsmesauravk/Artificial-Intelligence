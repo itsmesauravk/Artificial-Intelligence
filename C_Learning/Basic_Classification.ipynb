{
  "nbformat": 4,
  "nbformat_minor": 0,
  "metadata": {
    "colab": {
      "provenance": []
    },
    "kernelspec": {
      "name": "python3",
      "display_name": "Python 3"
    },
    "language_info": {
      "name": "python"
    }
  },
  "cells": [
    {
      "cell_type": "markdown",
      "source": [
        "# **Saurav Karki** (2357827)\n"
      ],
      "metadata": {
        "id": "3Gur9cnSi7fj"
      }
    },
    {
      "cell_type": "code",
      "execution_count": 206,
      "metadata": {
        "id": "rOOzoVZz2c9e"
      },
      "outputs": [],
      "source": [
        "import numpy as np\n",
        "import seaborn as sns\n",
        "import matplotlib.pyplot as plt\n",
        "\n",
        "import pandas as pd\n",
        "\n",
        "from sklearn.ensemble import RandomForestRegressor\n",
        "from sklearn.linear_model import LinearRegression\n",
        "from sklearn.feature_selection import SelectFromModel\n",
        "from sklearn.metrics import mean_squared_error\n",
        "\n",
        "from sklearn.preprocessing import LabelEncoder\n",
        "\n",
        "from sklearn.metrics import accuracy_score, classification_report, confusion_matrix"
      ]
    },
    {
      "cell_type": "markdown",
      "source": [
        "Importing the dataset using the syntax read_csv\n",
        "head() is used to display the first 5 rows in the dataset"
      ],
      "metadata": {
        "id": "pR5FJWmPeW5h"
      }
    },
    {
      "cell_type": "code",
      "source": [
        "dataframe = pd.read_csv(\"/content/drive/MyDrive/Concept and Technologies of AI/Final_Assingment/penguins_size.csv\")\n",
        "dataframe.head()"
      ],
      "metadata": {
        "colab": {
          "base_uri": "https://localhost:8080/",
          "height": 206
        },
        "id": "MvmPlumQ3W7R",
        "outputId": "4b594edb-d351-4dd3-c1e1-7d733a20105b"
      },
      "execution_count": 207,
      "outputs": [
        {
          "output_type": "execute_result",
          "data": {
            "text/plain": [
              "  species     island  culmen_length_mm  culmen_depth_mm  flipper_length_mm  \\\n",
              "0  Adelie  Torgersen              39.1             18.7              181.0   \n",
              "1  Adelie  Torgersen              39.5             17.4              186.0   \n",
              "2  Adelie  Torgersen              40.3             18.0              195.0   \n",
              "3  Adelie  Torgersen               NaN              NaN                NaN   \n",
              "4  Adelie  Torgersen              36.7             19.3              193.0   \n",
              "\n",
              "   body_mass_g     sex  \n",
              "0       3750.0    MALE  \n",
              "1       3800.0  FEMALE  \n",
              "2       3250.0  FEMALE  \n",
              "3          NaN     NaN  \n",
              "4       3450.0  FEMALE  "
            ],
            "text/html": [
              "\n",
              "  <div id=\"df-0cce2dbc-5c26-4f45-aeb2-4bc3d2d6148e\" class=\"colab-df-container\">\n",
              "    <div>\n",
              "<style scoped>\n",
              "    .dataframe tbody tr th:only-of-type {\n",
              "        vertical-align: middle;\n",
              "    }\n",
              "\n",
              "    .dataframe tbody tr th {\n",
              "        vertical-align: top;\n",
              "    }\n",
              "\n",
              "    .dataframe thead th {\n",
              "        text-align: right;\n",
              "    }\n",
              "</style>\n",
              "<table border=\"1\" class=\"dataframe\">\n",
              "  <thead>\n",
              "    <tr style=\"text-align: right;\">\n",
              "      <th></th>\n",
              "      <th>species</th>\n",
              "      <th>island</th>\n",
              "      <th>culmen_length_mm</th>\n",
              "      <th>culmen_depth_mm</th>\n",
              "      <th>flipper_length_mm</th>\n",
              "      <th>body_mass_g</th>\n",
              "      <th>sex</th>\n",
              "    </tr>\n",
              "  </thead>\n",
              "  <tbody>\n",
              "    <tr>\n",
              "      <th>0</th>\n",
              "      <td>Adelie</td>\n",
              "      <td>Torgersen</td>\n",
              "      <td>39.1</td>\n",
              "      <td>18.7</td>\n",
              "      <td>181.0</td>\n",
              "      <td>3750.0</td>\n",
              "      <td>MALE</td>\n",
              "    </tr>\n",
              "    <tr>\n",
              "      <th>1</th>\n",
              "      <td>Adelie</td>\n",
              "      <td>Torgersen</td>\n",
              "      <td>39.5</td>\n",
              "      <td>17.4</td>\n",
              "      <td>186.0</td>\n",
              "      <td>3800.0</td>\n",
              "      <td>FEMALE</td>\n",
              "    </tr>\n",
              "    <tr>\n",
              "      <th>2</th>\n",
              "      <td>Adelie</td>\n",
              "      <td>Torgersen</td>\n",
              "      <td>40.3</td>\n",
              "      <td>18.0</td>\n",
              "      <td>195.0</td>\n",
              "      <td>3250.0</td>\n",
              "      <td>FEMALE</td>\n",
              "    </tr>\n",
              "    <tr>\n",
              "      <th>3</th>\n",
              "      <td>Adelie</td>\n",
              "      <td>Torgersen</td>\n",
              "      <td>NaN</td>\n",
              "      <td>NaN</td>\n",
              "      <td>NaN</td>\n",
              "      <td>NaN</td>\n",
              "      <td>NaN</td>\n",
              "    </tr>\n",
              "    <tr>\n",
              "      <th>4</th>\n",
              "      <td>Adelie</td>\n",
              "      <td>Torgersen</td>\n",
              "      <td>36.7</td>\n",
              "      <td>19.3</td>\n",
              "      <td>193.0</td>\n",
              "      <td>3450.0</td>\n",
              "      <td>FEMALE</td>\n",
              "    </tr>\n",
              "  </tbody>\n",
              "</table>\n",
              "</div>\n",
              "    <div class=\"colab-df-buttons\">\n",
              "\n",
              "  <div class=\"colab-df-container\">\n",
              "    <button class=\"colab-df-convert\" onclick=\"convertToInteractive('df-0cce2dbc-5c26-4f45-aeb2-4bc3d2d6148e')\"\n",
              "            title=\"Convert this dataframe to an interactive table.\"\n",
              "            style=\"display:none;\">\n",
              "\n",
              "  <svg xmlns=\"http://www.w3.org/2000/svg\" height=\"24px\" viewBox=\"0 -960 960 960\">\n",
              "    <path d=\"M120-120v-720h720v720H120Zm60-500h600v-160H180v160Zm220 220h160v-160H400v160Zm0 220h160v-160H400v160ZM180-400h160v-160H180v160Zm440 0h160v-160H620v160ZM180-180h160v-160H180v160Zm440 0h160v-160H620v160Z\"/>\n",
              "  </svg>\n",
              "    </button>\n",
              "\n",
              "  <style>\n",
              "    .colab-df-container {\n",
              "      display:flex;\n",
              "      gap: 12px;\n",
              "    }\n",
              "\n",
              "    .colab-df-convert {\n",
              "      background-color: #E8F0FE;\n",
              "      border: none;\n",
              "      border-radius: 50%;\n",
              "      cursor: pointer;\n",
              "      display: none;\n",
              "      fill: #1967D2;\n",
              "      height: 32px;\n",
              "      padding: 0 0 0 0;\n",
              "      width: 32px;\n",
              "    }\n",
              "\n",
              "    .colab-df-convert:hover {\n",
              "      background-color: #E2EBFA;\n",
              "      box-shadow: 0px 1px 2px rgba(60, 64, 67, 0.3), 0px 1px 3px 1px rgba(60, 64, 67, 0.15);\n",
              "      fill: #174EA6;\n",
              "    }\n",
              "\n",
              "    .colab-df-buttons div {\n",
              "      margin-bottom: 4px;\n",
              "    }\n",
              "\n",
              "    [theme=dark] .colab-df-convert {\n",
              "      background-color: #3B4455;\n",
              "      fill: #D2E3FC;\n",
              "    }\n",
              "\n",
              "    [theme=dark] .colab-df-convert:hover {\n",
              "      background-color: #434B5C;\n",
              "      box-shadow: 0px 1px 3px 1px rgba(0, 0, 0, 0.15);\n",
              "      filter: drop-shadow(0px 1px 2px rgba(0, 0, 0, 0.3));\n",
              "      fill: #FFFFFF;\n",
              "    }\n",
              "  </style>\n",
              "\n",
              "    <script>\n",
              "      const buttonEl =\n",
              "        document.querySelector('#df-0cce2dbc-5c26-4f45-aeb2-4bc3d2d6148e button.colab-df-convert');\n",
              "      buttonEl.style.display =\n",
              "        google.colab.kernel.accessAllowed ? 'block' : 'none';\n",
              "\n",
              "      async function convertToInteractive(key) {\n",
              "        const element = document.querySelector('#df-0cce2dbc-5c26-4f45-aeb2-4bc3d2d6148e');\n",
              "        const dataTable =\n",
              "          await google.colab.kernel.invokeFunction('convertToInteractive',\n",
              "                                                    [key], {});\n",
              "        if (!dataTable) return;\n",
              "\n",
              "        const docLinkHtml = 'Like what you see? Visit the ' +\n",
              "          '<a target=\"_blank\" href=https://colab.research.google.com/notebooks/data_table.ipynb>data table notebook</a>'\n",
              "          + ' to learn more about interactive tables.';\n",
              "        element.innerHTML = '';\n",
              "        dataTable['output_type'] = 'display_data';\n",
              "        await google.colab.output.renderOutput(dataTable, element);\n",
              "        const docLink = document.createElement('div');\n",
              "        docLink.innerHTML = docLinkHtml;\n",
              "        element.appendChild(docLink);\n",
              "      }\n",
              "    </script>\n",
              "  </div>\n",
              "\n",
              "\n",
              "<div id=\"df-abd70dbd-2c1b-445f-bbfc-91307fab5f44\">\n",
              "  <button class=\"colab-df-quickchart\" onclick=\"quickchart('df-abd70dbd-2c1b-445f-bbfc-91307fab5f44')\"\n",
              "            title=\"Suggest charts\"\n",
              "            style=\"display:none;\">\n",
              "\n",
              "<svg xmlns=\"http://www.w3.org/2000/svg\" height=\"24px\"viewBox=\"0 0 24 24\"\n",
              "     width=\"24px\">\n",
              "    <g>\n",
              "        <path d=\"M19 3H5c-1.1 0-2 .9-2 2v14c0 1.1.9 2 2 2h14c1.1 0 2-.9 2-2V5c0-1.1-.9-2-2-2zM9 17H7v-7h2v7zm4 0h-2V7h2v10zm4 0h-2v-4h2v4z\"/>\n",
              "    </g>\n",
              "</svg>\n",
              "  </button>\n",
              "\n",
              "<style>\n",
              "  .colab-df-quickchart {\n",
              "      --bg-color: #E8F0FE;\n",
              "      --fill-color: #1967D2;\n",
              "      --hover-bg-color: #E2EBFA;\n",
              "      --hover-fill-color: #174EA6;\n",
              "      --disabled-fill-color: #AAA;\n",
              "      --disabled-bg-color: #DDD;\n",
              "  }\n",
              "\n",
              "  [theme=dark] .colab-df-quickchart {\n",
              "      --bg-color: #3B4455;\n",
              "      --fill-color: #D2E3FC;\n",
              "      --hover-bg-color: #434B5C;\n",
              "      --hover-fill-color: #FFFFFF;\n",
              "      --disabled-bg-color: #3B4455;\n",
              "      --disabled-fill-color: #666;\n",
              "  }\n",
              "\n",
              "  .colab-df-quickchart {\n",
              "    background-color: var(--bg-color);\n",
              "    border: none;\n",
              "    border-radius: 50%;\n",
              "    cursor: pointer;\n",
              "    display: none;\n",
              "    fill: var(--fill-color);\n",
              "    height: 32px;\n",
              "    padding: 0;\n",
              "    width: 32px;\n",
              "  }\n",
              "\n",
              "  .colab-df-quickchart:hover {\n",
              "    background-color: var(--hover-bg-color);\n",
              "    box-shadow: 0 1px 2px rgba(60, 64, 67, 0.3), 0 1px 3px 1px rgba(60, 64, 67, 0.15);\n",
              "    fill: var(--button-hover-fill-color);\n",
              "  }\n",
              "\n",
              "  .colab-df-quickchart-complete:disabled,\n",
              "  .colab-df-quickchart-complete:disabled:hover {\n",
              "    background-color: var(--disabled-bg-color);\n",
              "    fill: var(--disabled-fill-color);\n",
              "    box-shadow: none;\n",
              "  }\n",
              "\n",
              "  .colab-df-spinner {\n",
              "    border: 2px solid var(--fill-color);\n",
              "    border-color: transparent;\n",
              "    border-bottom-color: var(--fill-color);\n",
              "    animation:\n",
              "      spin 1s steps(1) infinite;\n",
              "  }\n",
              "\n",
              "  @keyframes spin {\n",
              "    0% {\n",
              "      border-color: transparent;\n",
              "      border-bottom-color: var(--fill-color);\n",
              "      border-left-color: var(--fill-color);\n",
              "    }\n",
              "    20% {\n",
              "      border-color: transparent;\n",
              "      border-left-color: var(--fill-color);\n",
              "      border-top-color: var(--fill-color);\n",
              "    }\n",
              "    30% {\n",
              "      border-color: transparent;\n",
              "      border-left-color: var(--fill-color);\n",
              "      border-top-color: var(--fill-color);\n",
              "      border-right-color: var(--fill-color);\n",
              "    }\n",
              "    40% {\n",
              "      border-color: transparent;\n",
              "      border-right-color: var(--fill-color);\n",
              "      border-top-color: var(--fill-color);\n",
              "    }\n",
              "    60% {\n",
              "      border-color: transparent;\n",
              "      border-right-color: var(--fill-color);\n",
              "    }\n",
              "    80% {\n",
              "      border-color: transparent;\n",
              "      border-right-color: var(--fill-color);\n",
              "      border-bottom-color: var(--fill-color);\n",
              "    }\n",
              "    90% {\n",
              "      border-color: transparent;\n",
              "      border-bottom-color: var(--fill-color);\n",
              "    }\n",
              "  }\n",
              "</style>\n",
              "\n",
              "  <script>\n",
              "    async function quickchart(key) {\n",
              "      const quickchartButtonEl =\n",
              "        document.querySelector('#' + key + ' button');\n",
              "      quickchartButtonEl.disabled = true;  // To prevent multiple clicks.\n",
              "      quickchartButtonEl.classList.add('colab-df-spinner');\n",
              "      try {\n",
              "        const charts = await google.colab.kernel.invokeFunction(\n",
              "            'suggestCharts', [key], {});\n",
              "      } catch (error) {\n",
              "        console.error('Error during call to suggestCharts:', error);\n",
              "      }\n",
              "      quickchartButtonEl.classList.remove('colab-df-spinner');\n",
              "      quickchartButtonEl.classList.add('colab-df-quickchart-complete');\n",
              "    }\n",
              "    (() => {\n",
              "      let quickchartButtonEl =\n",
              "        document.querySelector('#df-abd70dbd-2c1b-445f-bbfc-91307fab5f44 button');\n",
              "      quickchartButtonEl.style.display =\n",
              "        google.colab.kernel.accessAllowed ? 'block' : 'none';\n",
              "    })();\n",
              "  </script>\n",
              "</div>\n",
              "    </div>\n",
              "  </div>\n"
            ]
          },
          "metadata": {},
          "execution_count": 207
        }
      ]
    },
    {
      "cell_type": "markdown",
      "source": [
        "The code creates a copy of the original DataFrame, drops the \"species\" and \"island\" columns, and updates the DataFrame in place. The resulting DataFrame, named `df`, is then displayed to show the first five rows without the excluded columns."
      ],
      "metadata": {
        "id": "cKGOHtElevXx"
      }
    },
    {
      "cell_type": "code",
      "source": [
        "df = dataframe.copy()\n",
        "df.drop([\"species\",\"island\"], axis=1, inplace=True)\n",
        "df.head()"
      ],
      "metadata": {
        "colab": {
          "base_uri": "https://localhost:8080/",
          "height": 206
        },
        "id": "qSjaDJ_93tkK",
        "outputId": "5156cf5a-ac15-4d99-ceb9-6493b38c5866"
      },
      "execution_count": 208,
      "outputs": [
        {
          "output_type": "execute_result",
          "data": {
            "text/plain": [
              "   culmen_length_mm  culmen_depth_mm  flipper_length_mm  body_mass_g     sex\n",
              "0              39.1             18.7              181.0       3750.0    MALE\n",
              "1              39.5             17.4              186.0       3800.0  FEMALE\n",
              "2              40.3             18.0              195.0       3250.0  FEMALE\n",
              "3               NaN              NaN                NaN          NaN     NaN\n",
              "4              36.7             19.3              193.0       3450.0  FEMALE"
            ],
            "text/html": [
              "\n",
              "  <div id=\"df-7c29b9de-0797-44c4-91c9-0600888e7cfd\" class=\"colab-df-container\">\n",
              "    <div>\n",
              "<style scoped>\n",
              "    .dataframe tbody tr th:only-of-type {\n",
              "        vertical-align: middle;\n",
              "    }\n",
              "\n",
              "    .dataframe tbody tr th {\n",
              "        vertical-align: top;\n",
              "    }\n",
              "\n",
              "    .dataframe thead th {\n",
              "        text-align: right;\n",
              "    }\n",
              "</style>\n",
              "<table border=\"1\" class=\"dataframe\">\n",
              "  <thead>\n",
              "    <tr style=\"text-align: right;\">\n",
              "      <th></th>\n",
              "      <th>culmen_length_mm</th>\n",
              "      <th>culmen_depth_mm</th>\n",
              "      <th>flipper_length_mm</th>\n",
              "      <th>body_mass_g</th>\n",
              "      <th>sex</th>\n",
              "    </tr>\n",
              "  </thead>\n",
              "  <tbody>\n",
              "    <tr>\n",
              "      <th>0</th>\n",
              "      <td>39.1</td>\n",
              "      <td>18.7</td>\n",
              "      <td>181.0</td>\n",
              "      <td>3750.0</td>\n",
              "      <td>MALE</td>\n",
              "    </tr>\n",
              "    <tr>\n",
              "      <th>1</th>\n",
              "      <td>39.5</td>\n",
              "      <td>17.4</td>\n",
              "      <td>186.0</td>\n",
              "      <td>3800.0</td>\n",
              "      <td>FEMALE</td>\n",
              "    </tr>\n",
              "    <tr>\n",
              "      <th>2</th>\n",
              "      <td>40.3</td>\n",
              "      <td>18.0</td>\n",
              "      <td>195.0</td>\n",
              "      <td>3250.0</td>\n",
              "      <td>FEMALE</td>\n",
              "    </tr>\n",
              "    <tr>\n",
              "      <th>3</th>\n",
              "      <td>NaN</td>\n",
              "      <td>NaN</td>\n",
              "      <td>NaN</td>\n",
              "      <td>NaN</td>\n",
              "      <td>NaN</td>\n",
              "    </tr>\n",
              "    <tr>\n",
              "      <th>4</th>\n",
              "      <td>36.7</td>\n",
              "      <td>19.3</td>\n",
              "      <td>193.0</td>\n",
              "      <td>3450.0</td>\n",
              "      <td>FEMALE</td>\n",
              "    </tr>\n",
              "  </tbody>\n",
              "</table>\n",
              "</div>\n",
              "    <div class=\"colab-df-buttons\">\n",
              "\n",
              "  <div class=\"colab-df-container\">\n",
              "    <button class=\"colab-df-convert\" onclick=\"convertToInteractive('df-7c29b9de-0797-44c4-91c9-0600888e7cfd')\"\n",
              "            title=\"Convert this dataframe to an interactive table.\"\n",
              "            style=\"display:none;\">\n",
              "\n",
              "  <svg xmlns=\"http://www.w3.org/2000/svg\" height=\"24px\" viewBox=\"0 -960 960 960\">\n",
              "    <path d=\"M120-120v-720h720v720H120Zm60-500h600v-160H180v160Zm220 220h160v-160H400v160Zm0 220h160v-160H400v160ZM180-400h160v-160H180v160Zm440 0h160v-160H620v160ZM180-180h160v-160H180v160Zm440 0h160v-160H620v160Z\"/>\n",
              "  </svg>\n",
              "    </button>\n",
              "\n",
              "  <style>\n",
              "    .colab-df-container {\n",
              "      display:flex;\n",
              "      gap: 12px;\n",
              "    }\n",
              "\n",
              "    .colab-df-convert {\n",
              "      background-color: #E8F0FE;\n",
              "      border: none;\n",
              "      border-radius: 50%;\n",
              "      cursor: pointer;\n",
              "      display: none;\n",
              "      fill: #1967D2;\n",
              "      height: 32px;\n",
              "      padding: 0 0 0 0;\n",
              "      width: 32px;\n",
              "    }\n",
              "\n",
              "    .colab-df-convert:hover {\n",
              "      background-color: #E2EBFA;\n",
              "      box-shadow: 0px 1px 2px rgba(60, 64, 67, 0.3), 0px 1px 3px 1px rgba(60, 64, 67, 0.15);\n",
              "      fill: #174EA6;\n",
              "    }\n",
              "\n",
              "    .colab-df-buttons div {\n",
              "      margin-bottom: 4px;\n",
              "    }\n",
              "\n",
              "    [theme=dark] .colab-df-convert {\n",
              "      background-color: #3B4455;\n",
              "      fill: #D2E3FC;\n",
              "    }\n",
              "\n",
              "    [theme=dark] .colab-df-convert:hover {\n",
              "      background-color: #434B5C;\n",
              "      box-shadow: 0px 1px 3px 1px rgba(0, 0, 0, 0.15);\n",
              "      filter: drop-shadow(0px 1px 2px rgba(0, 0, 0, 0.3));\n",
              "      fill: #FFFFFF;\n",
              "    }\n",
              "  </style>\n",
              "\n",
              "    <script>\n",
              "      const buttonEl =\n",
              "        document.querySelector('#df-7c29b9de-0797-44c4-91c9-0600888e7cfd button.colab-df-convert');\n",
              "      buttonEl.style.display =\n",
              "        google.colab.kernel.accessAllowed ? 'block' : 'none';\n",
              "\n",
              "      async function convertToInteractive(key) {\n",
              "        const element = document.querySelector('#df-7c29b9de-0797-44c4-91c9-0600888e7cfd');\n",
              "        const dataTable =\n",
              "          await google.colab.kernel.invokeFunction('convertToInteractive',\n",
              "                                                    [key], {});\n",
              "        if (!dataTable) return;\n",
              "\n",
              "        const docLinkHtml = 'Like what you see? Visit the ' +\n",
              "          '<a target=\"_blank\" href=https://colab.research.google.com/notebooks/data_table.ipynb>data table notebook</a>'\n",
              "          + ' to learn more about interactive tables.';\n",
              "        element.innerHTML = '';\n",
              "        dataTable['output_type'] = 'display_data';\n",
              "        await google.colab.output.renderOutput(dataTable, element);\n",
              "        const docLink = document.createElement('div');\n",
              "        docLink.innerHTML = docLinkHtml;\n",
              "        element.appendChild(docLink);\n",
              "      }\n",
              "    </script>\n",
              "  </div>\n",
              "\n",
              "\n",
              "<div id=\"df-83af206c-5160-461a-87ab-1516d80177de\">\n",
              "  <button class=\"colab-df-quickchart\" onclick=\"quickchart('df-83af206c-5160-461a-87ab-1516d80177de')\"\n",
              "            title=\"Suggest charts\"\n",
              "            style=\"display:none;\">\n",
              "\n",
              "<svg xmlns=\"http://www.w3.org/2000/svg\" height=\"24px\"viewBox=\"0 0 24 24\"\n",
              "     width=\"24px\">\n",
              "    <g>\n",
              "        <path d=\"M19 3H5c-1.1 0-2 .9-2 2v14c0 1.1.9 2 2 2h14c1.1 0 2-.9 2-2V5c0-1.1-.9-2-2-2zM9 17H7v-7h2v7zm4 0h-2V7h2v10zm4 0h-2v-4h2v4z\"/>\n",
              "    </g>\n",
              "</svg>\n",
              "  </button>\n",
              "\n",
              "<style>\n",
              "  .colab-df-quickchart {\n",
              "      --bg-color: #E8F0FE;\n",
              "      --fill-color: #1967D2;\n",
              "      --hover-bg-color: #E2EBFA;\n",
              "      --hover-fill-color: #174EA6;\n",
              "      --disabled-fill-color: #AAA;\n",
              "      --disabled-bg-color: #DDD;\n",
              "  }\n",
              "\n",
              "  [theme=dark] .colab-df-quickchart {\n",
              "      --bg-color: #3B4455;\n",
              "      --fill-color: #D2E3FC;\n",
              "      --hover-bg-color: #434B5C;\n",
              "      --hover-fill-color: #FFFFFF;\n",
              "      --disabled-bg-color: #3B4455;\n",
              "      --disabled-fill-color: #666;\n",
              "  }\n",
              "\n",
              "  .colab-df-quickchart {\n",
              "    background-color: var(--bg-color);\n",
              "    border: none;\n",
              "    border-radius: 50%;\n",
              "    cursor: pointer;\n",
              "    display: none;\n",
              "    fill: var(--fill-color);\n",
              "    height: 32px;\n",
              "    padding: 0;\n",
              "    width: 32px;\n",
              "  }\n",
              "\n",
              "  .colab-df-quickchart:hover {\n",
              "    background-color: var(--hover-bg-color);\n",
              "    box-shadow: 0 1px 2px rgba(60, 64, 67, 0.3), 0 1px 3px 1px rgba(60, 64, 67, 0.15);\n",
              "    fill: var(--button-hover-fill-color);\n",
              "  }\n",
              "\n",
              "  .colab-df-quickchart-complete:disabled,\n",
              "  .colab-df-quickchart-complete:disabled:hover {\n",
              "    background-color: var(--disabled-bg-color);\n",
              "    fill: var(--disabled-fill-color);\n",
              "    box-shadow: none;\n",
              "  }\n",
              "\n",
              "  .colab-df-spinner {\n",
              "    border: 2px solid var(--fill-color);\n",
              "    border-color: transparent;\n",
              "    border-bottom-color: var(--fill-color);\n",
              "    animation:\n",
              "      spin 1s steps(1) infinite;\n",
              "  }\n",
              "\n",
              "  @keyframes spin {\n",
              "    0% {\n",
              "      border-color: transparent;\n",
              "      border-bottom-color: var(--fill-color);\n",
              "      border-left-color: var(--fill-color);\n",
              "    }\n",
              "    20% {\n",
              "      border-color: transparent;\n",
              "      border-left-color: var(--fill-color);\n",
              "      border-top-color: var(--fill-color);\n",
              "    }\n",
              "    30% {\n",
              "      border-color: transparent;\n",
              "      border-left-color: var(--fill-color);\n",
              "      border-top-color: var(--fill-color);\n",
              "      border-right-color: var(--fill-color);\n",
              "    }\n",
              "    40% {\n",
              "      border-color: transparent;\n",
              "      border-right-color: var(--fill-color);\n",
              "      border-top-color: var(--fill-color);\n",
              "    }\n",
              "    60% {\n",
              "      border-color: transparent;\n",
              "      border-right-color: var(--fill-color);\n",
              "    }\n",
              "    80% {\n",
              "      border-color: transparent;\n",
              "      border-right-color: var(--fill-color);\n",
              "      border-bottom-color: var(--fill-color);\n",
              "    }\n",
              "    90% {\n",
              "      border-color: transparent;\n",
              "      border-bottom-color: var(--fill-color);\n",
              "    }\n",
              "  }\n",
              "</style>\n",
              "\n",
              "  <script>\n",
              "    async function quickchart(key) {\n",
              "      const quickchartButtonEl =\n",
              "        document.querySelector('#' + key + ' button');\n",
              "      quickchartButtonEl.disabled = true;  // To prevent multiple clicks.\n",
              "      quickchartButtonEl.classList.add('colab-df-spinner');\n",
              "      try {\n",
              "        const charts = await google.colab.kernel.invokeFunction(\n",
              "            'suggestCharts', [key], {});\n",
              "      } catch (error) {\n",
              "        console.error('Error during call to suggestCharts:', error);\n",
              "      }\n",
              "      quickchartButtonEl.classList.remove('colab-df-spinner');\n",
              "      quickchartButtonEl.classList.add('colab-df-quickchart-complete');\n",
              "    }\n",
              "    (() => {\n",
              "      let quickchartButtonEl =\n",
              "        document.querySelector('#df-83af206c-5160-461a-87ab-1516d80177de button');\n",
              "      quickchartButtonEl.style.display =\n",
              "        google.colab.kernel.accessAllowed ? 'block' : 'none';\n",
              "    })();\n",
              "  </script>\n",
              "</div>\n",
              "    </div>\n",
              "  </div>\n"
            ]
          },
          "metadata": {},
          "execution_count": 208
        }
      ]
    },
    {
      "cell_type": "markdown",
      "source": [
        "This code calculates and prints the number of null values in each column of the DataFrame `df`. It iterates through each column using a for loop, checks for missing values using `pd.isnull()`, sums the missing values for each column, and prints the count. Additionally, the total number of missing values across all columns is accumulated and displayed at the end. This process helps in assessing the extent of missing data in the dataset before any data cleaning operations."
      ],
      "metadata": {
        "id": "r36wtVZzez1C"
      }
    },
    {
      "cell_type": "code",
      "source": [
        "\n",
        "\n",
        "total_missing_values = 0\n",
        "\n",
        "for col in df.columns:\n",
        "    miss_check = pd.isnull(df[col]).sum()\n",
        "\n",
        "    total_missing_values += miss_check\n",
        "\n",
        "    print(f\"Number of null values in '{col}': {miss_check}\")\n",
        "\n",
        "print(\"Total number of null/missing values in the dataset2 before data cleaning:\", total_missing_values)"
      ],
      "metadata": {
        "colab": {
          "base_uri": "https://localhost:8080/"
        },
        "id": "ymvEfIPV4kvB",
        "outputId": "56ff64ff-a103-4335-ab22-fc4dad21eb83"
      },
      "execution_count": 209,
      "outputs": [
        {
          "output_type": "stream",
          "name": "stdout",
          "text": [
            "Number of null values in 'culmen_length_mm': 2\n",
            "Number of null values in 'culmen_depth_mm': 2\n",
            "Number of null values in 'flipper_length_mm': 2\n",
            "Number of null values in 'body_mass_g': 2\n",
            "Number of null values in 'sex': 10\n",
            "Total number of null/missing values in the dataset2 before data cleaning: 18\n"
          ]
        }
      ]
    },
    {
      "cell_type": "markdown",
      "source": [
        "The code calculates the total number of missing values in each column before and after data cleaning in the DataFrame `df`. It uses forward-fill (`method='ffill'`) to fill missing values in `df` based on the previous valid value. The results are printed to compare the total missing values before and after the data cleaning process."
      ],
      "metadata": {
        "id": "BAAEWiuNe7WM"
      }
    },
    {
      "cell_type": "code",
      "source": [
        "total_missing_before = 0\n",
        "total_missing_after = 0\n",
        "for col in df.columns:\n",
        "  #for missing\n",
        "  total_missing = pd.isnull(dataframe[col]).sum()   #comparing with dataset\n",
        "  total_missing_before  += total_missing\n",
        "\n",
        "\n",
        "  if(df[col].isnull().sum()>0):\n",
        "      df[col] = df[col].fillna(method='ffill') #fills the value in the null place from above valid value - ffill\n",
        "      total_missing_after += df[col].isnull().sum()\n",
        "\n",
        "print(\"Before :\")\n",
        "print(\"Total number of null/missing values in the dataset2 before data cleaning:\", total_missing_before)\n",
        "print(\"After :\")\n",
        "print(\"Total number of null/missing values in the dataset2 after data cleaning:\", total_missing_after)"
      ],
      "metadata": {
        "colab": {
          "base_uri": "https://localhost:8080/"
        },
        "id": "kv2o9Ha25iOF",
        "outputId": "8afa1dd9-68ee-4eb4-c572-a9531569e812"
      },
      "execution_count": 210,
      "outputs": [
        {
          "output_type": "stream",
          "name": "stdout",
          "text": [
            "Before :\n",
            "Total number of null/missing values in the dataset2 before data cleaning: 18\n",
            "After :\n",
            "Total number of null/missing values in the dataset2 after data cleaning: 0\n"
          ]
        }
      ]
    },
    {
      "cell_type": "markdown",
      "source": [
        "The code creates feature matrix `X` and target vector `y` from the DataFrame `df`. `X` contains all rows and columns except the last one, converted to a NumPy array. `y` is assigned the \"sex\" column values. The resulting feature matrix `X` and target vector `y` are then printed."
      ],
      "metadata": {
        "id": "4mi3gJb5fAA2"
      }
    },
    {
      "cell_type": "code",
      "source": [
        "\n",
        "X = df.iloc[ : , : -1].to_numpy()\n",
        "y = df.sex\n",
        "print(X)\n",
        "print(y)"
      ],
      "metadata": {
        "colab": {
          "base_uri": "https://localhost:8080/"
        },
        "id": "rSqdpwb758kA",
        "outputId": "1470db13-a4e0-4b8a-e00a-c27e212a63c6"
      },
      "execution_count": 211,
      "outputs": [
        {
          "output_type": "stream",
          "name": "stdout",
          "text": [
            "[[  39.1   18.7  181.  3750. ]\n",
            " [  39.5   17.4  186.  3800. ]\n",
            " [  40.3   18.   195.  3250. ]\n",
            " ...\n",
            " [  50.4   15.7  222.  5750. ]\n",
            " [  45.2   14.8  212.  5200. ]\n",
            " [  49.9   16.1  213.  5400. ]]\n",
            "0        MALE\n",
            "1      FEMALE\n",
            "2      FEMALE\n",
            "3      FEMALE\n",
            "4      FEMALE\n",
            "        ...  \n",
            "339    FEMALE\n",
            "340    FEMALE\n",
            "341      MALE\n",
            "342    FEMALE\n",
            "343      MALE\n",
            "Name: sex, Length: 344, dtype: object\n"
          ]
        }
      ]
    },
    {
      "cell_type": "markdown",
      "source": [],
      "metadata": {
        "id": "23LWqFc8fByh"
      }
    },
    {
      "cell_type": "markdown",
      "source": [
        "The code uses the `train_test_split` function from scikit-learn to split the feature matrix (`X`) and target vector (`y`) into training and testing sets. It assigns 80% of the data to the training set (`X_train` and `y_train`) and 20% to the testing set (`X_test` and `y_test`). The `random_state` parameter ensures reproducibility."
      ],
      "metadata": {
        "id": "NgncnKvAfI9-"
      }
    },
    {
      "cell_type": "code",
      "source": [
        "from sklearn.model_selection import train_test_split\n",
        "# Step 3.1.2: Split the Dataset into Train and Test set\n",
        "X_train, X_test, y_train, y_test = train_test_split(X, y, test_size=0.2, random_state=42)\n"
      ],
      "metadata": {
        "id": "CCA7bPTy6KU1"
      },
      "execution_count": 212,
      "outputs": []
    },
    {
      "cell_type": "code",
      "source": [
        "df_X_train = pd.DataFrame(X_train, columns=['culmen_length_mm', 'culmen_depth_mm', 'flipper_length_mm', 'body_mass_g'])\n",
        "\n",
        "# Add the target variable to the DataFrame\n",
        "df_X_train['sex'] = y_train\n",
        "\n",
        "# Create pair plots for each feature against the target variable\n",
        "sns.pairplot(df_X_train, x_vars=['culmen_length_mm', 'culmen_depth_mm', 'flipper_length_mm', 'body_mass_g'], y_vars='sex', kind='scatter', markers='o', palette='r')\n",
        "plt.show()"
      ],
      "metadata": {
        "colab": {
          "base_uri": "https://localhost:8080/",
          "height": 416
        },
        "id": "6fJB75a4W917",
        "outputId": "1517794c-7301-4a59-fef4-f9f99ccf5431"
      },
      "execution_count": 213,
      "outputs": [
        {
          "output_type": "stream",
          "name": "stderr",
          "text": [
            "/usr/local/lib/python3.10/dist-packages/seaborn/axisgrid.py:1615: UserWarning: Ignoring `palette` because no `hue` variable has been assigned.\n",
            "  func(x=x, y=y, **kwargs)\n",
            "/usr/local/lib/python3.10/dist-packages/seaborn/axisgrid.py:1615: UserWarning: Ignoring `palette` because no `hue` variable has been assigned.\n",
            "  func(x=x, y=y, **kwargs)\n",
            "/usr/local/lib/python3.10/dist-packages/seaborn/axisgrid.py:1615: UserWarning: Ignoring `palette` because no `hue` variable has been assigned.\n",
            "  func(x=x, y=y, **kwargs)\n",
            "/usr/local/lib/python3.10/dist-packages/seaborn/axisgrid.py:1615: UserWarning: Ignoring `palette` because no `hue` variable has been assigned.\n",
            "  func(x=x, y=y, **kwargs)\n"
          ]
        },
        {
          "output_type": "display_data",
          "data": {
            "text/plain": [
              "<Figure size 1000x250 with 4 Axes>"
            ],
            "image/png": "[encoded data removed]"
          },
          "metadata": {}
        }
      ]
    },
    {
      "cell_type": "markdown",
      "source": [
        "The code creates a pair plot using the Seaborn library for visualizing relationships between numerical variables in the DataFrame `dataframe`. Each scatterplot represents the relationship between two variables, and histograms along the diagonal show the distribution of each variable. The resulting pair plot is displayed with a specified figure size of 20x10."
      ],
      "metadata": {
        "id": "MlYvTYyAfOTu"
      }
    },
    {
      "cell_type": "code",
      "source": [
        "# print(numeric_df)\n",
        "plt.figure(figsize=(20,10))\n",
        "sns.pairplot(dataframe)\n",
        "plt.plot()"
      ],
      "metadata": {
        "colab": {
          "base_uri": "https://localhost:8080/",
          "height": 1000
        },
        "id": "-mjpXsDSYo--",
        "outputId": "073cc85b-e713-4613-f768-261f23101e9a"
      },
      "execution_count": 214,
      "outputs": [
        {
          "output_type": "execute_result",
          "data": {
            "text/plain": [
              "[]"
            ]
          },
          "metadata": {},
          "execution_count": 214
        },
        {
          "output_type": "display_data",
          "data": {
            "text/plain": [
              "<Figure size 2000x1000 with 0 Axes>"
            ]
          },
          "metadata": {}
        },
        {
          "output_type": "display_data",
          "data": {
            "text/plain": [
              "<Figure size 1000x1000 with 20 Axes>"
            ],
            "image/png": "[encoded data removed]"
          },
          "metadata": {}
        }
      ]
    },
    {
      "cell_type": "code",
      "source": [
        "print(X_train)"
      ],
      "metadata": {
        "colab": {
          "base_uri": "https://localhost:8080/"
        },
        "id": "xEbZKuy36OzO",
        "outputId": "62c275f2-7027-43b3-d3ad-9c31bb31246b"
      },
      "execution_count": 215,
      "outputs": [
        {
          "output_type": "stream",
          "name": "stdout",
          "text": [
            "[[  35.5   16.2  195.  3350. ]\n",
            " [  46.8   15.4  215.  5150. ]\n",
            " [  39.2   19.6  195.  4675. ]\n",
            " ...\n",
            " [  38.6   17.2  199.  3750. ]\n",
            " [  46.6   14.2  210.  4850. ]\n",
            " [  37.7   16.   183.  3075. ]]\n"
          ]
        }
      ]
    },
    {
      "cell_type": "code",
      "source": [
        "print(y_train)"
      ],
      "metadata": {
        "colab": {
          "base_uri": "https://localhost:8080/"
        },
        "id": "NhHLRpUM6QKb",
        "outputId": "9cfcd0ba-7f75-4a10-e1af-e7c0d9ae0d2b"
      },
      "execution_count": 216,
      "outputs": [
        {
          "output_type": "stream",
          "name": "stdout",
          "text": [
            "66     FEMALE\n",
            "229      MALE\n",
            "7        MALE\n",
            "140    FEMALE\n",
            "323      MALE\n",
            "        ...  \n",
            "188    FEMALE\n",
            "71       MALE\n",
            "106    FEMALE\n",
            "270    FEMALE\n",
            "102    FEMALE\n",
            "Name: sex, Length: 275, dtype: object\n"
          ]
        }
      ]
    },
    {
      "cell_type": "code",
      "source": [
        "print(\"Length of X train : \",len(X_train))\n",
        "print(\"Length of X test : \",len(X_test))\n",
        "print(\"Length of y train : \",len(y_train))\n",
        "print(\"Length of y test : \",len(y_test))"
      ],
      "metadata": {
        "colab": {
          "base_uri": "https://localhost:8080/"
        },
        "id": "Tjs3WjoUCgZj",
        "outputId": "b2df4148-d8c9-445b-8aed-cfbc142ef6ad"
      },
      "execution_count": 217,
      "outputs": [
        {
          "output_type": "stream",
          "name": "stdout",
          "text": [
            "Length of X train :  275\n",
            "Length of X test :  69\n",
            "Length of y train :  275\n",
            "Length of y test :  69\n"
          ]
        }
      ]
    },
    {
      "cell_type": "markdown",
      "source": [
        "## **Logistic Regression**"
      ],
      "metadata": {
        "id": "wiO1KYM3Diyx"
      }
    },
    {
      "cell_type": "markdown",
      "source": [
        "### **Model train**"
      ],
      "metadata": {
        "id": "s7anaR5yDofP"
      }
    },
    {
      "cell_type": "markdown",
      "source": [
        "The code fits a Logistic Regression model (`logistic_model`) to the training data (`X_train`, `y_train`) using scikit-learn. The model is configured with a random state for reproducibility and a maximum iteration limit. Predictions are then made on both the training and testing sets (`logistic_pred_train` and `logistic_pred_test`)."
      ],
      "metadata": {
        "id": "F-M5NVKbfVML"
      }
    },
    {
      "cell_type": "code",
      "source": [
        "# Model 1: Logistic Regression\n",
        "from sklearn.linear_model import LogisticRegression\n",
        "logistic_model = LogisticRegression(random_state=42, max_iter=5000)\n",
        "logistic_model.fit(X_train, y_train)\n",
        "logistic_pred_train = logistic_model.predict(X_train)\n",
        "logistic_pred_test = logistic_model.predict(X_test)"
      ],
      "metadata": {
        "id": "R9Wr9pvEDu0w"
      },
      "execution_count": 218,
      "outputs": []
    },
    {
      "cell_type": "code",
      "source": [
        "\n",
        "print(logistic_pred_test)"
      ],
      "metadata": {
        "colab": {
          "base_uri": "https://localhost:8080/"
        },
        "id": "lcMMXK3wDzLz",
        "outputId": "23a782b4-161a-4676-89e5-f3d85c768f8a"
      },
      "execution_count": 219,
      "outputs": [
        {
          "output_type": "stream",
          "name": "stdout",
          "text": [
            "['MALE' 'MALE' 'FEMALE' 'FEMALE' 'FEMALE' 'MALE' 'MALE' 'FEMALE' 'MALE'\n",
            " 'FEMALE' 'MALE' 'FEMALE' 'FEMALE' 'FEMALE' 'FEMALE' 'MALE' 'FEMALE'\n",
            " 'MALE' 'MALE' 'MALE' 'MALE' 'MALE' 'MALE' 'MALE' 'MALE' 'FEMALE' 'MALE'\n",
            " 'MALE' 'FEMALE' 'FEMALE' 'MALE' 'FEMALE' 'MALE' 'FEMALE' 'MALE' 'FEMALE'\n",
            " 'MALE' 'FEMALE' 'MALE' 'MALE' 'FEMALE' 'MALE' 'MALE' 'MALE' 'FEMALE'\n",
            " 'MALE' 'MALE' 'FEMALE' 'MALE' 'FEMALE' 'MALE' 'MALE' 'MALE' 'MALE' 'MALE'\n",
            " 'FEMALE' 'FEMALE' 'FEMALE' 'MALE' 'MALE' 'MALE' 'MALE' 'MALE' 'MALE'\n",
            " 'MALE' 'FEMALE' 'MALE' 'FEMALE' 'MALE']\n"
          ]
        }
      ]
    },
    {
      "cell_type": "markdown",
      "source": [
        "Testing model predection"
      ],
      "metadata": {
        "id": "LuqN9JaGfXlq"
      }
    },
    {
      "cell_type": "code",
      "source": [
        "new_features = np.array([[35.5, 16.2, 195, 335]])\n",
        "y_pred = logistic_model.predict(new_features)\n",
        "\n",
        "print(y_pred)"
      ],
      "metadata": {
        "colab": {
          "base_uri": "https://localhost:8080/"
        },
        "id": "Icv_CQIuEPpk",
        "outputId": "55d86118-06d8-4161-d5e1-99fb956c681b"
      },
      "execution_count": 220,
      "outputs": [
        {
          "output_type": "stream",
          "name": "stdout",
          "text": [
            "['FEMALE']\n"
          ]
        }
      ]
    },
    {
      "cell_type": "markdown",
      "source": [
        "## **Random Forest**"
      ],
      "metadata": {
        "id": "qHEn0ZW9Fq7H"
      }
    },
    {
      "cell_type": "markdown",
      "source": [
        "### **Model Train**"
      ],
      "metadata": {
        "id": "-NnuPNNrFyIq"
      }
    },
    {
      "cell_type": "markdown",
      "source": [
        "The code creates and fits a Random Forest Classifier (`rf_model`) to the training data (`X_train`, `y_train`) using scikit-learn. The model is configured with a random state for reproducibility. Predictions are then made on both the training and testing sets (`rf_pred_train` and `rf_pred_test`)."
      ],
      "metadata": {
        "id": "fPWEZO3Efd5E"
      }
    },
    {
      "cell_type": "code",
      "source": [
        "from sklearn.ensemble import RandomForestClassifier\n",
        "\n",
        "# Model 2: Random Forest Classifier\n",
        "rf_model = RandomForestClassifier(random_state=42)\n",
        "rf_model.fit(X_train, y_train)\n",
        "rf_pred_train = rf_model.predict(X_train)\n",
        "rf_pred_test = rf_model.predict(X_test)"
      ],
      "metadata": {
        "id": "rrTcbgS_Fw10"
      },
      "execution_count": 221,
      "outputs": []
    },
    {
      "cell_type": "code",
      "source": [],
      "metadata": {
        "id": "cuN8bbuhfW24"
      },
      "execution_count": 221,
      "outputs": []
    },
    {
      "cell_type": "code",
      "source": [
        "print(rf_pred_test)"
      ],
      "metadata": {
        "colab": {
          "base_uri": "https://localhost:8080/"
        },
        "id": "-HHjlSVAF3qx",
        "outputId": "4f8515d7-bfd5-488e-e087-25970680e8bc"
      },
      "execution_count": 222,
      "outputs": [
        {
          "output_type": "stream",
          "name": "stdout",
          "text": [
            "['MALE' 'MALE' 'FEMALE' 'FEMALE' 'FEMALE' 'MALE' 'MALE' 'FEMALE' 'MALE'\n",
            " 'FEMALE' 'FEMALE' 'FEMALE' 'FEMALE' 'FEMALE' 'FEMALE' 'MALE' 'FEMALE'\n",
            " 'MALE' 'MALE' 'MALE' 'MALE' 'FEMALE' 'MALE' 'MALE' 'MALE' 'FEMALE' 'MALE'\n",
            " 'MALE' 'FEMALE' 'FEMALE' 'MALE' 'FEMALE' 'MALE' 'FEMALE' 'MALE' 'FEMALE'\n",
            " 'MALE' 'FEMALE' 'MALE' 'MALE' 'FEMALE' 'MALE' 'MALE' 'MALE' 'FEMALE'\n",
            " 'MALE' 'MALE' 'FEMALE' 'FEMALE' 'FEMALE' 'MALE' 'MALE' 'MALE' 'MALE'\n",
            " 'MALE' 'FEMALE' 'FEMALE' 'FEMALE' 'MALE' 'MALE' 'MALE' 'MALE' 'MALE'\n",
            " 'MALE' 'MALE' 'FEMALE' 'MALE' 'FEMALE' 'FEMALE']\n"
          ]
        }
      ]
    },
    {
      "cell_type": "markdown",
      "source": [
        "## **Model Evaluate**"
      ],
      "metadata": {
        "id": "F83afrjAGT5Q"
      }
    },
    {
      "cell_type": "markdown",
      "source": [
        "The code uses scikit-learn's `accuracy_score` function to evaluate the accuracy of predictions for both Logistic Regression and Random Forest models on both the training and testing sets. The results are stored in variables (`logistic_accuracy_train`, `logistic_accuracy_test`, `rf_accuracy_train`, and `rf_accuracy_test`)."
      ],
      "metadata": {
        "id": "-Vp_1be3fivU"
      }
    },
    {
      "cell_type": "code",
      "source": [
        "from sklearn.metrics import accuracy_score, classification_report\n",
        "\n",
        "# Evaluate both models\n",
        "logistic_accuracy_train = accuracy_score(y_train, logistic_pred_train)\n",
        "logistic_accuracy_test = accuracy_score(y_test, logistic_pred_test)\n",
        "\n",
        "rf_accuracy_train = accuracy_score(y_train, rf_pred_train)\n",
        "rf_accuracy_test = accuracy_score(y_test, rf_pred_test)"
      ],
      "metadata": {
        "id": "8tFVDUq5GX1G"
      },
      "execution_count": 223,
      "outputs": []
    },
    {
      "cell_type": "markdown",
      "source": [
        "The code creates a DataFrame named `model_result` to store the training and testing accuracies of two models (Logistic Regression and Random Forest). The DataFrame includes columns for the method names, training accuracies, and testing accuracies. The results are populated using the accuracy scores obtained earlier."
      ],
      "metadata": {
        "id": "DIM_2eiHfpij"
      }
    },
    {
      "cell_type": "code",
      "source": [
        "model_result = pd.DataFrame({\n",
        "    \"Method\": [\"Logistic\",\"Random Forest\"],\n",
        "    \"Train Accuracy\": [logistic_accuracy_train,rf_accuracy_train],\n",
        "    \"Test Accuracy\": [logistic_accuracy_test,rf_accuracy_test]\n",
        "})"
      ],
      "metadata": {
        "id": "mkiaAYffGeNY"
      },
      "execution_count": 224,
      "outputs": []
    },
    {
      "cell_type": "code",
      "source": [
        "model_result"
      ],
      "metadata": {
        "colab": {
          "base_uri": "https://localhost:8080/",
          "height": 112
        },
        "id": "OJAS-VZwJ0MF",
        "outputId": "44fa327d-4fde-4c55-ae32-6840c60a9f54"
      },
      "execution_count": 225,
      "outputs": [
        {
          "output_type": "execute_result",
          "data": {
            "text/plain": [
              "          Method  Train Accuracy  Test Accuracy\n",
              "0       Logistic        0.894545       0.855072\n",
              "1  Random Forest        1.000000       0.884058"
            ],
            "text/html": [
              "\n",
              "  <div id=\"df-eabe9bc5-697a-4b55-ab6a-da5b2d6582e7\" class=\"colab-df-container\">\n",
              "    <div>\n",
              "<style scoped>\n",
              "    .dataframe tbody tr th:only-of-type {\n",
              "        vertical-align: middle;\n",
              "    }\n",
              "\n",
              "    .dataframe tbody tr th {\n",
              "        vertical-align: top;\n",
              "    }\n",
              "\n",
              "    .dataframe thead th {\n",
              "        text-align: right;\n",
              "    }\n",
              "</style>\n",
              "<table border=\"1\" class=\"dataframe\">\n",
              "  <thead>\n",
              "    <tr style=\"text-align: right;\">\n",
              "      <th></th>\n",
              "      <th>Method</th>\n",
              "      <th>Train Accuracy</th>\n",
              "      <th>Test Accuracy</th>\n",
              "    </tr>\n",
              "  </thead>\n",
              "  <tbody>\n",
              "    <tr>\n",
              "      <th>0</th>\n",
              "      <td>Logistic</td>\n",
              "      <td>0.894545</td>\n",
              "      <td>0.855072</td>\n",
              "    </tr>\n",
              "    <tr>\n",
              "      <th>1</th>\n",
              "      <td>Random Forest</td>\n",
              "      <td>1.000000</td>\n",
              "      <td>0.884058</td>\n",
              "    </tr>\n",
              "  </tbody>\n",
              "</table>\n",
              "</div>\n",
              "    <div class=\"colab-df-buttons\">\n",
              "\n",
              "  <div class=\"colab-df-container\">\n",
              "    <button class=\"colab-df-convert\" onclick=\"convertToInteractive('df-eabe9bc5-697a-4b55-ab6a-da5b2d6582e7')\"\n",
              "            title=\"Convert this dataframe to an interactive table.\"\n",
              "            style=\"display:none;\">\n",
              "\n",
              "  <svg xmlns=\"http://www.w3.org/2000/svg\" height=\"24px\" viewBox=\"0 -960 960 960\">\n",
              "    <path d=\"M120-120v-720h720v720H120Zm60-500h600v-160H180v160Zm220 220h160v-160H400v160Zm0 220h160v-160H400v160ZM180-400h160v-160H180v160Zm440 0h160v-160H620v160ZM180-180h160v-160H180v160Zm440 0h160v-160H620v160Z\"/>\n",
              "  </svg>\n",
              "    </button>\n",
              "\n",
              "  <style>\n",
              "    .colab-df-container {\n",
              "      display:flex;\n",
              "      gap: 12px;\n",
              "    }\n",
              "\n",
              "    .colab-df-convert {\n",
              "      background-color: #E8F0FE;\n",
              "      border: none;\n",
              "      border-radius: 50%;\n",
              "      cursor: pointer;\n",
              "      display: none;\n",
              "      fill: #1967D2;\n",
              "      height: 32px;\n",
              "      padding: 0 0 0 0;\n",
              "      width: 32px;\n",
              "    }\n",
              "\n",
              "    .colab-df-convert:hover {\n",
              "      background-color: #E2EBFA;\n",
              "      box-shadow: 0px 1px 2px rgba(60, 64, 67, 0.3), 0px 1px 3px 1px rgba(60, 64, 67, 0.15);\n",
              "      fill: #174EA6;\n",
              "    }\n",
              "\n",
              "    .colab-df-buttons div {\n",
              "      margin-bottom: 4px;\n",
              "    }\n",
              "\n",
              "    [theme=dark] .colab-df-convert {\n",
              "      background-color: #3B4455;\n",
              "      fill: #D2E3FC;\n",
              "    }\n",
              "\n",
              "    [theme=dark] .colab-df-convert:hover {\n",
              "      background-color: #434B5C;\n",
              "      box-shadow: 0px 1px 3px 1px rgba(0, 0, 0, 0.15);\n",
              "      filter: drop-shadow(0px 1px 2px rgba(0, 0, 0, 0.3));\n",
              "      fill: #FFFFFF;\n",
              "    }\n",
              "  </style>\n",
              "\n",
              "    <script>\n",
              "      const buttonEl =\n",
              "        document.querySelector('#df-eabe9bc5-697a-4b55-ab6a-da5b2d6582e7 button.colab-df-convert');\n",
              "      buttonEl.style.display =\n",
              "        google.colab.kernel.accessAllowed ? 'block' : 'none';\n",
              "\n",
              "      async function convertToInteractive(key) {\n",
              "        const element = document.querySelector('#df-eabe9bc5-697a-4b55-ab6a-da5b2d6582e7');\n",
              "        const dataTable =\n",
              "          await google.colab.kernel.invokeFunction('convertToInteractive',\n",
              "                                                    [key], {});\n",
              "        if (!dataTable) return;\n",
              "\n",
              "        const docLinkHtml = 'Like what you see? Visit the ' +\n",
              "          '<a target=\"_blank\" href=https://colab.research.google.com/notebooks/data_table.ipynb>data table notebook</a>'\n",
              "          + ' to learn more about interactive tables.';\n",
              "        element.innerHTML = '';\n",
              "        dataTable['output_type'] = 'display_data';\n",
              "        await google.colab.output.renderOutput(dataTable, element);\n",
              "        const docLink = document.createElement('div');\n",
              "        docLink.innerHTML = docLinkHtml;\n",
              "        element.appendChild(docLink);\n",
              "      }\n",
              "    </script>\n",
              "  </div>\n",
              "\n",
              "\n",
              "<div id=\"df-c2e5333c-ecbc-4884-9dca-d8d9e1e07789\">\n",
              "  <button class=\"colab-df-quickchart\" onclick=\"quickchart('df-c2e5333c-ecbc-4884-9dca-d8d9e1e07789')\"\n",
              "            title=\"Suggest charts\"\n",
              "            style=\"display:none;\">\n",
              "\n",
              "<svg xmlns=\"http://www.w3.org/2000/svg\" height=\"24px\"viewBox=\"0 0 24 24\"\n",
              "     width=\"24px\">\n",
              "    <g>\n",
              "        <path d=\"M19 3H5c-1.1 0-2 .9-2 2v14c0 1.1.9 2 2 2h14c1.1 0 2-.9 2-2V5c0-1.1-.9-2-2-2zM9 17H7v-7h2v7zm4 0h-2V7h2v10zm4 0h-2v-4h2v4z\"/>\n",
              "    </g>\n",
              "</svg>\n",
              "  </button>\n",
              "\n",
              "<style>\n",
              "  .colab-df-quickchart {\n",
              "      --bg-color: #E8F0FE;\n",
              "      --fill-color: #1967D2;\n",
              "      --hover-bg-color: #E2EBFA;\n",
              "      --hover-fill-color: #174EA6;\n",
              "      --disabled-fill-color: #AAA;\n",
              "      --disabled-bg-color: #DDD;\n",
              "  }\n",
              "\n",
              "  [theme=dark] .colab-df-quickchart {\n",
              "      --bg-color: #3B4455;\n",
              "      --fill-color: #D2E3FC;\n",
              "      --hover-bg-color: #434B5C;\n",
              "      --hover-fill-color: #FFFFFF;\n",
              "      --disabled-bg-color: #3B4455;\n",
              "      --disabled-fill-color: #666;\n",
              "  }\n",
              "\n",
              "  .colab-df-quickchart {\n",
              "    background-color: var(--bg-color);\n",
              "    border: none;\n",
              "    border-radius: 50%;\n",
              "    cursor: pointer;\n",
              "    display: none;\n",
              "    fill: var(--fill-color);\n",
              "    height: 32px;\n",
              "    padding: 0;\n",
              "    width: 32px;\n",
              "  }\n",
              "\n",
              "  .colab-df-quickchart:hover {\n",
              "    background-color: var(--hover-bg-color);\n",
              "    box-shadow: 0 1px 2px rgba(60, 64, 67, 0.3), 0 1px 3px 1px rgba(60, 64, 67, 0.15);\n",
              "    fill: var(--button-hover-fill-color);\n",
              "  }\n",
              "\n",
              "  .colab-df-quickchart-complete:disabled,\n",
              "  .colab-df-quickchart-complete:disabled:hover {\n",
              "    background-color: var(--disabled-bg-color);\n",
              "    fill: var(--disabled-fill-color);\n",
              "    box-shadow: none;\n",
              "  }\n",
              "\n",
              "  .colab-df-spinner {\n",
              "    border: 2px solid var(--fill-color);\n",
              "    border-color: transparent;\n",
              "    border-bottom-color: var(--fill-color);\n",
              "    animation:\n",
              "      spin 1s steps(1) infinite;\n",
              "  }\n",
              "\n",
              "  @keyframes spin {\n",
              "    0% {\n",
              "      border-color: transparent;\n",
              "      border-bottom-color: var(--fill-color);\n",
              "      border-left-color: var(--fill-color);\n",
              "    }\n",
              "    20% {\n",
              "      border-color: transparent;\n",
              "      border-left-color: var(--fill-color);\n",
              "      border-top-color: var(--fill-color);\n",
              "    }\n",
              "    30% {\n",
              "      border-color: transparent;\n",
              "      border-left-color: var(--fill-color);\n",
              "      border-top-color: var(--fill-color);\n",
              "      border-right-color: var(--fill-color);\n",
              "    }\n",
              "    40% {\n",
              "      border-color: transparent;\n",
              "      border-right-color: var(--fill-color);\n",
              "      border-top-color: var(--fill-color);\n",
              "    }\n",
              "    60% {\n",
              "      border-color: transparent;\n",
              "      border-right-color: var(--fill-color);\n",
              "    }\n",
              "    80% {\n",
              "      border-color: transparent;\n",
              "      border-right-color: var(--fill-color);\n",
              "      border-bottom-color: var(--fill-color);\n",
              "    }\n",
              "    90% {\n",
              "      border-color: transparent;\n",
              "      border-bottom-color: var(--fill-color);\n",
              "    }\n",
              "  }\n",
              "</style>\n",
              "\n",
              "  <script>\n",
              "    async function quickchart(key) {\n",
              "      const quickchartButtonEl =\n",
              "        document.querySelector('#' + key + ' button');\n",
              "      quickchartButtonEl.disabled = true;  // To prevent multiple clicks.\n",
              "      quickchartButtonEl.classList.add('colab-df-spinner');\n",
              "      try {\n",
              "        const charts = await google.colab.kernel.invokeFunction(\n",
              "            'suggestCharts', [key], {});\n",
              "      } catch (error) {\n",
              "        console.error('Error during call to suggestCharts:', error);\n",
              "      }\n",
              "      quickchartButtonEl.classList.remove('colab-df-spinner');\n",
              "      quickchartButtonEl.classList.add('colab-df-quickchart-complete');\n",
              "    }\n",
              "    (() => {\n",
              "      let quickchartButtonEl =\n",
              "        document.querySelector('#df-c2e5333c-ecbc-4884-9dca-d8d9e1e07789 button');\n",
              "      quickchartButtonEl.style.display =\n",
              "        google.colab.kernel.accessAllowed ? 'block' : 'none';\n",
              "    })();\n",
              "  </script>\n",
              "</div>\n",
              "    </div>\n",
              "  </div>\n"
            ]
          },
          "metadata": {},
          "execution_count": 225
        }
      ]
    },
    {
      "cell_type": "markdown",
      "source": [
        "## **Model Evaluation First**"
      ],
      "metadata": {
        "id": "Rn04KsO6ddTt"
      }
    },
    {
      "cell_type": "markdown",
      "source": [
        "Comparing which model performs better in initial stage"
      ],
      "metadata": {
        "id": "S1tcNAQHfrPx"
      }
    },
    {
      "cell_type": "code",
      "source": [
        "if(logistic_accuracy_test < rf_accuracy_test):\n",
        "  print(\"Random Forest Classifier performs Better\")\n",
        "else:\n",
        "  print(\"Logistic Regression performs Better\")"
      ],
      "metadata": {
        "id": "oZ6bAwHfLe81",
        "colab": {
          "base_uri": "https://localhost:8080/"
        },
        "outputId": "b1597bc9-f0df-4742-e50d-d9d5a690987a"
      },
      "execution_count": 226,
      "outputs": [
        {
          "output_type": "stream",
          "name": "stdout",
          "text": [
            "Random Forest Classifier performs Better\n"
          ]
        }
      ]
    },
    {
      "cell_type": "markdown",
      "source": [
        "## **Hyperparameter**"
      ],
      "metadata": {
        "id": "LXo1tmp6aiVN"
      }
    },
    {
      "cell_type": "markdown",
      "source": [
        "### **Logistic**"
      ],
      "metadata": {
        "id": "OabVltUKa5RQ"
      }
    },
    {
      "cell_type": "markdown",
      "source": [
        "The code performs hyperparameter tuning for a Logistic Regression model using GridSearchCV. It explores a range of regularization parameters (`'C'`) and optimization algorithms (`'solver'`). The `GridSearchCV` object (`logistic_grid_search`) searches exhaustively over the specified parameter grid using 5-fold cross-validation. After fitting the model to the training data (`X_train`, `y_train`), it prints the best hyperparameters selected by the grid search."
      ],
      "metadata": {
        "id": "yotEg6_Pf0zQ"
      }
    },
    {
      "cell_type": "code",
      "source": [
        "from sklearn.model_selection import GridSearchCV\n",
        "import numpy as np\n",
        "from sklearn.linear_model import LogisticRegression\n",
        "\n",
        "# For Logistic Regression\n",
        "logistic_params = {\n",
        "    'C': np.logspace(-3, 3, 20),  # Regularization parameter\n",
        "    'solver': ['liblinear', 'lbfgs']  # Optimization algorithm\n",
        "}\n",
        "\n",
        "# GridSearchCV will search exhaustively over the entire parameter grid\n",
        "logistic_grid_search = GridSearchCV(estimator=logistic_model, param_grid=logistic_params, cv=5)\n",
        "logistic_grid_search.fit(X_train, y_train)\n",
        "\n",
        "print(\"Best hyperparameters for Logistic Regression:\")\n",
        "print(logistic_grid_search.best_params_)"
      ],
      "metadata": {
        "colab": {
          "base_uri": "https://localhost:8080/"
        },
        "id": "KTfNkUSfNIHg",
        "outputId": "5eb49869-ff32-4006-cb13-93532d06ecc0"
      },
      "execution_count": 227,
      "outputs": [
        {
          "output_type": "stream",
          "name": "stdout",
          "text": [
            "Best hyperparameters for Logistic Regression:\n",
            "{'C': 1.438449888287663, 'solver': 'lbfgs'}\n"
          ]
        }
      ]
    },
    {
      "cell_type": "markdown",
      "source": [
        "### **Random Forest**"
      ],
      "metadata": {
        "id": "Pb_c6jHubv3W"
      }
    },
    {
      "cell_type": "markdown",
      "source": [
        "This code performs hyperparameter tuning for a Random Forest Classifier using RandomizedSearchCV. It defines a parameter grid (`rf_params`) including the number of trees (`'n_estimators'`), maximum depth of trees (`'max_depth'`), and minimum samples required to split a node (`'min_samples_split'`). RandomizedSearchCV then randomly samples from this parameter grid, and after fitting the model to the training data (`X_train`, `y_train`), it prints the best hyperparameters selected by the randomized search. The process is guided by a total of 10 iterations and 5-fold cross-validation."
      ],
      "metadata": {
        "id": "pjc-kgnzf7TL"
      }
    },
    {
      "cell_type": "code",
      "source": [
        "from sklearn.model_selection import RandomizedSearchCV\n",
        "from sklearn.ensemble import RandomForestClassifier\n",
        "import numpy as np\n",
        "\n",
        "# Define the parameter grid\n",
        "rf_params = {\n",
        "    'n_estimators': [int(x) for x in np.linspace(start=200, stop=1000, num=5)],  # Number of trees\n",
        "    'max_depth': [10, 20, 30, None],  # Maximum depth of trees\n",
        "    'min_samples_split': [2, 5, 10],\n",
        "}\n",
        "\n",
        "# RandomizedSearchCV will randomly sample from the parameter grid\n",
        "rf_random_search = RandomizedSearchCV(estimator=rf_model, param_distributions=rf_params, n_iter=10, cv=5, random_state=42, n_jobs=-1)\n",
        "rf_random_search.fit(X_train, y_train)\n",
        "\n",
        "# Print the best hyperparameters\n",
        "print(\"Best hyperparameters for Random Forest Classifier:\")\n",
        "print(rf_random_search.best_params_)\n"
      ],
      "metadata": {
        "colab": {
          "base_uri": "https://localhost:8080/"
        },
        "id": "FwAiIOwRHG_y",
        "outputId": "c7806351-8154-4ce9-b603-55e0cf3ec948"
      },
      "execution_count": 228,
      "outputs": [
        {
          "output_type": "stream",
          "name": "stdout",
          "text": [
            "Best hyperparameters for Random Forest Classifier:\n",
            "{'n_estimators': 200, 'min_samples_split': 2, 'max_depth': 10}\n"
          ]
        }
      ]
    },
    {
      "cell_type": "markdown",
      "source": [
        "## **Tuining**"
      ],
      "metadata": {
        "id": "2Lx54Gi-cs_o"
      }
    },
    {
      "cell_type": "markdown",
      "source": [
        "This code uses the best estimator obtained from the hyperparameter tuning of a Logistic Regression model (`logistic_grid_search.best_estimator_`). It then makes predictions on the test set (`X_test`) and evaluates the model's performance using accuracy, a classification report, and a confusion matrix. The accuracy is calculated with the `accuracy_score` function, and the classification report and confusion matrix are printed using `classification_report` and `confusion_matrix` functions, respectively."
      ],
      "metadata": {
        "id": "LITqr9rxgAvc"
      }
    },
    {
      "cell_type": "code",
      "source": [
        "logistic_tuned = logistic_grid_search.best_estimator_\n",
        "\n",
        "y_pred_tuned = logistic_tuned.predict(X_test)\n",
        "\n",
        "from sklearn.metrics import accuracy_score\n",
        "accuracy_logistic = accuracy_score(y_test, y_pred_tuned)\n",
        "print(\"Accuracy:\", accuracy_logistic)\n",
        "print(\"Classification Report:\")\n",
        "print(classification_report(y_test,  y_pred_tuned))\n",
        "print(\"Confusion Matrix:\")\n",
        "print(confusion_matrix(y_test,  y_pred_tuned))"
      ],
      "metadata": {
        "colab": {
          "base_uri": "https://localhost:8080/"
        },
        "id": "JOE_KtQsIC-z",
        "outputId": "621ffc33-00fd-4cdd-adb4-fdc052fbaae2"
      },
      "execution_count": 229,
      "outputs": [
        {
          "output_type": "stream",
          "name": "stdout",
          "text": [
            "Accuracy: 0.7971014492753623\n",
            "Classification Report:\n",
            "              precision    recall  f1-score   support\n",
            "\n",
            "           .       0.00      0.00      0.00         1\n",
            "      FEMALE       0.84      0.68      0.75        31\n",
            "        MALE       0.77      0.92      0.84        37\n",
            "\n",
            "    accuracy                           0.80        69\n",
            "   macro avg       0.54      0.53      0.53        69\n",
            "weighted avg       0.79      0.80      0.79        69\n",
            "\n",
            "Confusion Matrix:\n",
            "[[ 0  1  0]\n",
            " [ 0 21 10]\n",
            " [ 0  3 34]]\n"
          ]
        },
        {
          "output_type": "stream",
          "name": "stderr",
          "text": [
            "/usr/local/lib/python3.10/dist-packages/sklearn/metrics/_classification.py:1344: UndefinedMetricWarning: Precision and F-score are ill-defined and being set to 0.0 in labels with no predicted samples. Use `zero_division` parameter to control this behavior.\n",
            "  _warn_prf(average, modifier, msg_start, len(result))\n",
            "/usr/local/lib/python3.10/dist-packages/sklearn/metrics/_classification.py:1344: UndefinedMetricWarning: Precision and F-score are ill-defined and being set to 0.0 in labels with no predicted samples. Use `zero_division` parameter to control this behavior.\n",
            "  _warn_prf(average, modifier, msg_start, len(result))\n",
            "/usr/local/lib/python3.10/dist-packages/sklearn/metrics/_classification.py:1344: UndefinedMetricWarning: Precision and F-score are ill-defined and being set to 0.0 in labels with no predicted samples. Use `zero_division` parameter to control this behavior.\n",
            "  _warn_prf(average, modifier, msg_start, len(result))\n"
          ]
        }
      ]
    },
    {
      "cell_type": "markdown",
      "source": [
        "This code demonstrates how to access the best model obtained from RandomizedSearchCV for a Random Forest Classifier (`rf_random_search.best_estimator_`). It then uses this best model to make predictions on the test set (`X_test`) and evaluates its performance using accuracy, a classification report, and a confusion matrix. The accuracy is calculated with the `accuracy_score` function, and the classification report and confusion matrix are printed using `classification_report` and `confusion_matrix` functions, respectively."
      ],
      "metadata": {
        "id": "Y1YMnbKRgHFr"
      }
    },
    {
      "cell_type": "code",
      "source": [
        "# Once RandomizedSearchCV/GridSearchCV has completed, you can access the best model (with best hyperparameters) using .best_estimator_\n",
        "ran_tuned = rf_random_search.best_estimator_\n",
        "\n",
        "# Use the best model to predict on the test set\n",
        "y_pred_tuned = ran_tuned.predict(X_test)\n",
        "\n",
        "# Now you can evaluate the performance of the model using any metric you are interested in\n",
        "from sklearn.metrics import accuracy_score\n",
        "accuracy_rf = accuracy_score(y_test, y_pred_tuned)\n",
        "print(\"Accuracy:\", accuracy_rf)\n",
        "print(\"Classification report:\\n\\n\",classification_report(y_test,  y_pred_tuned))\n",
        "print(\"Confusion Matrix:\\n\",confusion_matrix(y_test,  y_pred_tuned) )"
      ],
      "metadata": {
        "colab": {
          "base_uri": "https://localhost:8080/"
        },
        "id": "lcS55NOoIHke",
        "outputId": "76f3444a-6577-444f-acea-9d3afd8bcca0"
      },
      "execution_count": 230,
      "outputs": [
        {
          "output_type": "stream",
          "name": "stdout",
          "text": [
            "Accuracy: 0.8840579710144928\n",
            "Classification report:\n",
            "\n",
            "               precision    recall  f1-score   support\n",
            "\n",
            "           .       0.00      0.00      0.00         1\n",
            "      FEMALE       0.90      0.87      0.89        31\n",
            "        MALE       0.87      0.92      0.89        37\n",
            "\n",
            "    accuracy                           0.88        69\n",
            "   macro avg       0.59      0.60      0.59        69\n",
            "weighted avg       0.87      0.88      0.88        69\n",
            "\n",
            "Confusion Matrix:\n",
            " [[ 0  0  1]\n",
            " [ 0 27  4]\n",
            " [ 0  3 34]]\n"
          ]
        },
        {
          "output_type": "stream",
          "name": "stderr",
          "text": [
            "/usr/local/lib/python3.10/dist-packages/sklearn/metrics/_classification.py:1344: UndefinedMetricWarning: Precision and F-score are ill-defined and being set to 0.0 in labels with no predicted samples. Use `zero_division` parameter to control this behavior.\n",
            "  _warn_prf(average, modifier, msg_start, len(result))\n",
            "/usr/local/lib/python3.10/dist-packages/sklearn/metrics/_classification.py:1344: UndefinedMetricWarning: Precision and F-score are ill-defined and being set to 0.0 in labels with no predicted samples. Use `zero_division` parameter to control this behavior.\n",
            "  _warn_prf(average, modifier, msg_start, len(result))\n",
            "/usr/local/lib/python3.10/dist-packages/sklearn/metrics/_classification.py:1344: UndefinedMetricWarning: Precision and F-score are ill-defined and being set to 0.0 in labels with no predicted samples. Use `zero_division` parameter to control this behavior.\n",
            "  _warn_prf(average, modifier, msg_start, len(result))\n"
          ]
        }
      ]
    },
    {
      "cell_type": "markdown",
      "source": [
        "## **Model Evaluation 2**"
      ],
      "metadata": {
        "id": "0qFxxf68cZ_D"
      }
    },
    {
      "cell_type": "markdown",
      "source": [
        "Checking the accuracy of model after hyperparameter tuning"
      ],
      "metadata": {
        "id": "tmdx6NMwgJU9"
      }
    },
    {
      "cell_type": "code",
      "source": [
        "if(accuracy_rf > accuracy_logistic):\n",
        "  print(\"Random Forest Classifier performs Better\")\n",
        "else:\n",
        "  print(\"Logistic Regression performs Better\")"
      ],
      "metadata": {
        "colab": {
          "base_uri": "https://localhost:8080/"
        },
        "id": "iN4NrBpZb94B",
        "outputId": "df322648-9202-4807-d8bc-b021e7650a32"
      },
      "execution_count": 231,
      "outputs": [
        {
          "output_type": "stream",
          "name": "stdout",
          "text": [
            "Random Forest Classifier performs Better\n"
          ]
        }
      ]
    },
    {
      "cell_type": "markdown",
      "source": [
        "## **Feature Selection**"
      ],
      "metadata": {
        "id": "9Ta5voyHb57u"
      }
    },
    {
      "cell_type": "markdown",
      "source": [
        "This code performs feature selection using Recursive Feature Elimination (RFE) with a Logistic Regression model. It selects the top 4 features based on the best logistic regression model (`logistic_tuned`) obtained from hyperparameter tuning. The selected feature indices are then used to extract the corresponding features from both the training and test sets (`X_train_selected` and `X_test_selected`). Finally, a new logistic regression model is trained on the reduced feature set, and its accuracy is evaluated on the test set (`final_accuracy_ls`)."
      ],
      "metadata": {
        "id": "DSCEM_1JgR-q"
      }
    },
    {
      "cell_type": "code",
      "source": [
        "from sklearn.feature_selection import RFE\n",
        "\n",
        "# Assuming 'best_logistic_model' represents the logistic regression model with the best hyperparameters obtained from section 3.1.3\n",
        "# You can replace it with your best model if needed\n",
        "\n",
        "# Initialize RFE with the best logistic regression model and desired number of features to select\n",
        "rfe = RFE(logistic_tuned, n_features_to_select=4)  # Selecting 4 best features\n",
        "\n",
        "# Fit RFE on the training data to select the best features\n",
        "rfe.fit(X_train, y_train)\n",
        "\n",
        "# Get the indices of selected features\n",
        "selected_features_indices = rfe.get_support(indices=True)\n",
        "\n",
        "# Extract the selected features from the training and test sets\n",
        "X_train_selected = X_train[:, selected_features_indices]\n",
        "X_test_selected = X_test[:, selected_features_indices]\n",
        "\n",
        "# Now, rebuild the logistic regression model with the best hyperparameters and selected features\n",
        "final_logistic_model = logistic_tuned.fit(X_train_selected, y_train)\n",
        "\n",
        "# Evaluate the final model on the test set\n",
        "final_accuracy_ls = final_logistic_model.score(X_test_selected, y_test)\n",
        "print(\"Final Model Accuracy:\", final_accuracy_ls)\n"
      ],
      "metadata": {
        "colab": {
          "base_uri": "https://localhost:8080/"
        },
        "id": "yjsaBnADLTTy",
        "outputId": "a71d547e-fe78-4ecb-a395-b94f0451052c"
      },
      "execution_count": 232,
      "outputs": [
        {
          "output_type": "stream",
          "name": "stdout",
          "text": [
            "Final Model Accuracy: 0.7971014492753623\n"
          ]
        }
      ]
    },
    {
      "cell_type": "markdown",
      "source": [
        "The code utilizes Recursive Feature Elimination (RFE) with a Random Forest Classifier (`ran_tuned`) to select the top 4 features. It extracts these features from the training and test sets, then builds a new Random Forest model with the best hyperparameters and the selected features. The accuracy of the final model is evaluated on the test set (`final_accuracy_rf`)."
      ],
      "metadata": {
        "id": "zfKdo-v_gazn"
      }
    },
    {
      "cell_type": "code",
      "source": [
        "from sklearn.feature_selection import RFE\n",
        "\n",
        "# Assuming 'best_logistic_model' represents the logistic regression model with the best hyperparameters obtained from section 3.1.3\n",
        "# You can replace it with your best model if needed\n",
        "\n",
        "# Initialize RFE with the best logistic regression model and desired number of features to select\n",
        "rfe = RFE(ran_tuned, n_features_to_select=4)  # Selecting 4 best features\n",
        "\n",
        "# Fit RFE on the training data to select the best features\n",
        "rfe.fit(X_train, y_train)\n",
        "\n",
        "# Get the indices of selected features\n",
        "selected_features_indices = rfe.get_support(indices=True)\n",
        "\n",
        "# Extract the selected features from the training and test sets\n",
        "X_train_selected = X_train[:, selected_features_indices]\n",
        "X_test_selected = X_test[:, selected_features_indices]\n",
        "\n",
        "# Now, rebuild the logistic regression model with the best hyperparameters and selected features\n",
        "final_logistic_model = ran_tuned.fit(X_train_selected, y_train)\n",
        "\n",
        "# Evaluate the final model on the test set\n",
        "final_accuracy_rf = final_logistic_model.score(X_test_selected, y_test)\n",
        "print(\"Final Model Accuracy:\", final_accuracy_rf)\n"
      ],
      "metadata": {
        "colab": {
          "base_uri": "https://localhost:8080/"
        },
        "id": "438c4ygVMJZ4",
        "outputId": "e084aeda-bc6d-4913-dc2e-7d4bc2b09cf5"
      },
      "execution_count": 233,
      "outputs": [
        {
          "output_type": "stream",
          "name": "stdout",
          "text": [
            "Final Model Accuracy: 0.8840579710144928\n"
          ]
        }
      ]
    },
    {
      "cell_type": "markdown",
      "source": [
        "## **Model Evaluation Final**"
      ],
      "metadata": {
        "id": "8HZ7fNKhcfwd"
      }
    },
    {
      "cell_type": "markdown",
      "source": [
        "Final checking the accuracy of model after all the process."
      ],
      "metadata": {
        "id": "8QA7k615gchj"
      }
    },
    {
      "cell_type": "code",
      "source": [
        "if(final_accuracy_rf > final_accuracy_ls):\n",
        "  print(\"Random Forest Classifier performs Better\")\n",
        "else:\n",
        "  print(\"Logistic Regression performs Better\")"
      ],
      "metadata": {
        "colab": {
          "base_uri": "https://localhost:8080/"
        },
        "id": "4jixNbbFQ92r",
        "outputId": "922eb82a-173f-4505-b5af-e3970d41e64d"
      },
      "execution_count": 234,
      "outputs": [
        {
          "output_type": "stream",
          "name": "stdout",
          "text": [
            "Random Forest Classifier performs Better\n"
          ]
        }
      ]
    },
    {
      "cell_type": "markdown",
      "source": [
        "## **Conclusion**"
      ],
      "metadata": {
        "id": "s-bBfLZkgjo8"
      }
    },
    {
      "cell_type": "markdown",
      "source": [
        "In summary, the Random Forest model consistently outperforms the Logistic Regression model across various tests, indicating its superior performance for the given task."
      ],
      "metadata": {
        "id": "TwARM-68g5wG"
      }
    }
  ]
}