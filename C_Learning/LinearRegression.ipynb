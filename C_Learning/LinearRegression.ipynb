{
  "nbformat": 4,
  "nbformat_minor": 0,
  "metadata": {
    "colab": {
      "provenance": []
    },
    "kernelspec": {
      "name": "python3",
      "display_name": "Python 3"
    },
    "language_info": {
      "name": "python"
    }
  },
  "cells": [
    {
      "cell_type": "code",
      "execution_count": 1,
      "metadata": {
        "id": "nhdR85vjiF5P"
      },
      "outputs": [],
      "source": [
        "import numpy as np\n",
        "import pandas as pd\n",
        "import matplotlib.pyplot as plt"
      ]
    },
    {
      "cell_type": "code",
      "source": [
        "dataset = pd.read_csv(\"/content/drive/MyDrive/Concept and Technologies of AI/Week7/student.csv\")\n",
        "dataset.head()\n",
        "\n"
      ],
      "metadata": {
        "colab": {
          "base_uri": "https://localhost:8080/",
          "height": 206
        },
        "id": "JA8kTTqYigtg",
        "outputId": "b6deceaf-9833-43b0-c327-92dbce70d9d7"
      },
      "execution_count": 2,
      "outputs": [
        {
          "output_type": "execute_result",
          "data": {
            "text/plain": [
              "   Math  Reading  Writing\n",
              "0    48       68       63\n",
              "1    62       81       72\n",
              "2    79       80       78\n",
              "3    76       83       79\n",
              "4    59       64       62"
            ],
            "text/html": [
              "\n",
              "  <div id=\"df-5c65e188-1f47-499d-92cf-6270bd7e992d\" class=\"colab-df-container\">\n",
              "    <div>\n",
              "<style scoped>\n",
              "    .dataframe tbody tr th:only-of-type {\n",
              "        vertical-align: middle;\n",
              "    }\n",
              "\n",
              "    .dataframe tbody tr th {\n",
              "        vertical-align: top;\n",
              "    }\n",
              "\n",
              "    .dataframe thead th {\n",
              "        text-align: right;\n",
              "    }\n",
              "</style>\n",
              "<table border=\"1\" class=\"dataframe\">\n",
              "  <thead>\n",
              "    <tr style=\"text-align: right;\">\n",
              "      <th></th>\n",
              "      <th>Math</th>\n",
              "      <th>Reading</th>\n",
              "      <th>Writing</th>\n",
              "    </tr>\n",
              "  </thead>\n",
              "  <tbody>\n",
              "    <tr>\n",
              "      <th>0</th>\n",
              "      <td>48</td>\n",
              "      <td>68</td>\n",
              "      <td>63</td>\n",
              "    </tr>\n",
              "    <tr>\n",
              "      <th>1</th>\n",
              "      <td>62</td>\n",
              "      <td>81</td>\n",
              "      <td>72</td>\n",
              "    </tr>\n",
              "    <tr>\n",
              "      <th>2</th>\n",
              "      <td>79</td>\n",
              "      <td>80</td>\n",
              "      <td>78</td>\n",
              "    </tr>\n",
              "    <tr>\n",
              "      <th>3</th>\n",
              "      <td>76</td>\n",
              "      <td>83</td>\n",
              "      <td>79</td>\n",
              "    </tr>\n",
              "    <tr>\n",
              "      <th>4</th>\n",
              "      <td>59</td>\n",
              "      <td>64</td>\n",
              "      <td>62</td>\n",
              "    </tr>\n",
              "  </tbody>\n",
              "</table>\n",
              "</div>\n",
              "    <div class=\"colab-df-buttons\">\n",
              "\n",
              "  <div class=\"colab-df-container\">\n",
              "    <button class=\"colab-df-convert\" onclick=\"convertToInteractive('df-5c65e188-1f47-499d-92cf-6270bd7e992d')\"\n",
              "            title=\"Convert this dataframe to an interactive table.\"\n",
              "            style=\"display:none;\">\n",
              "\n",
              "  <svg xmlns=\"http://www.w3.org/2000/svg\" height=\"24px\" viewBox=\"0 -960 960 960\">\n",
              "    <path d=\"M120-120v-720h720v720H120Zm60-500h600v-160H180v160Zm220 220h160v-160H400v160Zm0 220h160v-160H400v160ZM180-400h160v-160H180v160Zm440 0h160v-160H620v160ZM180-180h160v-160H180v160Zm440 0h160v-160H620v160Z\"/>\n",
              "  </svg>\n",
              "    </button>\n",
              "\n",
              "  <style>\n",
              "    .colab-df-container {\n",
              "      display:flex;\n",
              "      gap: 12px;\n",
              "    }\n",
              "\n",
              "    .colab-df-convert {\n",
              "      background-color: #E8F0FE;\n",
              "      border: none;\n",
              "      border-radius: 50%;\n",
              "      cursor: pointer;\n",
              "      display: none;\n",
              "      fill: #1967D2;\n",
              "      height: 32px;\n",
              "      padding: 0 0 0 0;\n",
              "      width: 32px;\n",
              "    }\n",
              "\n",
              "    .colab-df-convert:hover {\n",
              "      background-color: #E2EBFA;\n",
              "      box-shadow: 0px 1px 2px rgba(60, 64, 67, 0.3), 0px 1px 3px 1px rgba(60, 64, 67, 0.15);\n",
              "      fill: #174EA6;\n",
              "    }\n",
              "\n",
              "    .colab-df-buttons div {\n",
              "      margin-bottom: 4px;\n",
              "    }\n",
              "\n",
              "    [theme=dark] .colab-df-convert {\n",
              "      background-color: #3B4455;\n",
              "      fill: #D2E3FC;\n",
              "    }\n",
              "\n",
              "    [theme=dark] .colab-df-convert:hover {\n",
              "      background-color: #434B5C;\n",
              "      box-shadow: 0px 1px 3px 1px rgba(0, 0, 0, 0.15);\n",
              "      filter: drop-shadow(0px 1px 2px rgba(0, 0, 0, 0.3));\n",
              "      fill: #FFFFFF;\n",
              "    }\n",
              "  </style>\n",
              "\n",
              "    <script>\n",
              "      const buttonEl =\n",
              "        document.querySelector('#df-5c65e188-1f47-499d-92cf-6270bd7e992d button.colab-df-convert');\n",
              "      buttonEl.style.display =\n",
              "        google.colab.kernel.accessAllowed ? 'block' : 'none';\n",
              "\n",
              "      async function convertToInteractive(key) {\n",
              "        const element = document.querySelector('#df-5c65e188-1f47-499d-92cf-6270bd7e992d');\n",
              "        const dataTable =\n",
              "          await google.colab.kernel.invokeFunction('convertToInteractive',\n",
              "                                                    [key], {});\n",
              "        if (!dataTable) return;\n",
              "\n",
              "        const docLinkHtml = 'Like what you see? Visit the ' +\n",
              "          '<a target=\"_blank\" href=https://colab.research.google.com/notebooks/data_table.ipynb>data table notebook</a>'\n",
              "          + ' to learn more about interactive tables.';\n",
              "        element.innerHTML = '';\n",
              "        dataTable['output_type'] = 'display_data';\n",
              "        await google.colab.output.renderOutput(dataTable, element);\n",
              "        const docLink = document.createElement('div');\n",
              "        docLink.innerHTML = docLinkHtml;\n",
              "        element.appendChild(docLink);\n",
              "      }\n",
              "    </script>\n",
              "  </div>\n",
              "\n",
              "\n",
              "<div id=\"df-087de8df-bb3f-4614-b2ac-b1e1088b6028\">\n",
              "  <button class=\"colab-df-quickchart\" onclick=\"quickchart('df-087de8df-bb3f-4614-b2ac-b1e1088b6028')\"\n",
              "            title=\"Suggest charts\"\n",
              "            style=\"display:none;\">\n",
              "\n",
              "<svg xmlns=\"http://www.w3.org/2000/svg\" height=\"24px\"viewBox=\"0 0 24 24\"\n",
              "     width=\"24px\">\n",
              "    <g>\n",
              "        <path d=\"M19 3H5c-1.1 0-2 .9-2 2v14c0 1.1.9 2 2 2h14c1.1 0 2-.9 2-2V5c0-1.1-.9-2-2-2zM9 17H7v-7h2v7zm4 0h-2V7h2v10zm4 0h-2v-4h2v4z\"/>\n",
              "    </g>\n",
              "</svg>\n",
              "  </button>\n",
              "\n",
              "<style>\n",
              "  .colab-df-quickchart {\n",
              "      --bg-color: #E8F0FE;\n",
              "      --fill-color: #1967D2;\n",
              "      --hover-bg-color: #E2EBFA;\n",
              "      --hover-fill-color: #174EA6;\n",
              "      --disabled-fill-color: #AAA;\n",
              "      --disabled-bg-color: #DDD;\n",
              "  }\n",
              "\n",
              "  [theme=dark] .colab-df-quickchart {\n",
              "      --bg-color: #3B4455;\n",
              "      --fill-color: #D2E3FC;\n",
              "      --hover-bg-color: #434B5C;\n",
              "      --hover-fill-color: #FFFFFF;\n",
              "      --disabled-bg-color: #3B4455;\n",
              "      --disabled-fill-color: #666;\n",
              "  }\n",
              "\n",
              "  .colab-df-quickchart {\n",
              "    background-color: var(--bg-color);\n",
              "    border: none;\n",
              "    border-radius: 50%;\n",
              "    cursor: pointer;\n",
              "    display: none;\n",
              "    fill: var(--fill-color);\n",
              "    height: 32px;\n",
              "    padding: 0;\n",
              "    width: 32px;\n",
              "  }\n",
              "\n",
              "  .colab-df-quickchart:hover {\n",
              "    background-color: var(--hover-bg-color);\n",
              "    box-shadow: 0 1px 2px rgba(60, 64, 67, 0.3), 0 1px 3px 1px rgba(60, 64, 67, 0.15);\n",
              "    fill: var(--button-hover-fill-color);\n",
              "  }\n",
              "\n",
              "  .colab-df-quickchart-complete:disabled,\n",
              "  .colab-df-quickchart-complete:disabled:hover {\n",
              "    background-color: var(--disabled-bg-color);\n",
              "    fill: var(--disabled-fill-color);\n",
              "    box-shadow: none;\n",
              "  }\n",
              "\n",
              "  .colab-df-spinner {\n",
              "    border: 2px solid var(--fill-color);\n",
              "    border-color: transparent;\n",
              "    border-bottom-color: var(--fill-color);\n",
              "    animation:\n",
              "      spin 1s steps(1) infinite;\n",
              "  }\n",
              "\n",
              "  @keyframes spin {\n",
              "    0% {\n",
              "      border-color: transparent;\n",
              "      border-bottom-color: var(--fill-color);\n",
              "      border-left-color: var(--fill-color);\n",
              "    }\n",
              "    20% {\n",
              "      border-color: transparent;\n",
              "      border-left-color: var(--fill-color);\n",
              "      border-top-color: var(--fill-color);\n",
              "    }\n",
              "    30% {\n",
              "      border-color: transparent;\n",
              "      border-left-color: var(--fill-color);\n",
              "      border-top-color: var(--fill-color);\n",
              "      border-right-color: var(--fill-color);\n",
              "    }\n",
              "    40% {\n",
              "      border-color: transparent;\n",
              "      border-right-color: var(--fill-color);\n",
              "      border-top-color: var(--fill-color);\n",
              "    }\n",
              "    60% {\n",
              "      border-color: transparent;\n",
              "      border-right-color: var(--fill-color);\n",
              "    }\n",
              "    80% {\n",
              "      border-color: transparent;\n",
              "      border-right-color: var(--fill-color);\n",
              "      border-bottom-color: var(--fill-color);\n",
              "    }\n",
              "    90% {\n",
              "      border-color: transparent;\n",
              "      border-bottom-color: var(--fill-color);\n",
              "    }\n",
              "  }\n",
              "</style>\n",
              "\n",
              "  <script>\n",
              "    async function quickchart(key) {\n",
              "      const quickchartButtonEl =\n",
              "        document.querySelector('#' + key + ' button');\n",
              "      quickchartButtonEl.disabled = true;  // To prevent multiple clicks.\n",
              "      quickchartButtonEl.classList.add('colab-df-spinner');\n",
              "      try {\n",
              "        const charts = await google.colab.kernel.invokeFunction(\n",
              "            'suggestCharts', [key], {});\n",
              "      } catch (error) {\n",
              "        console.error('Error during call to suggestCharts:', error);\n",
              "      }\n",
              "      quickchartButtonEl.classList.remove('colab-df-spinner');\n",
              "      quickchartButtonEl.classList.add('colab-df-quickchart-complete');\n",
              "    }\n",
              "    (() => {\n",
              "      let quickchartButtonEl =\n",
              "        document.querySelector('#df-087de8df-bb3f-4614-b2ac-b1e1088b6028 button');\n",
              "      quickchartButtonEl.style.display =\n",
              "        google.colab.kernel.accessAllowed ? 'block' : 'none';\n",
              "    })();\n",
              "  </script>\n",
              "</div>\n",
              "    </div>\n",
              "  </div>\n"
            ]
          },
          "metadata": {},
          "execution_count": 2
        }
      ]
    },
    {
      "cell_type": "code",
      "source": [
        "# math = dataset['Math']\n",
        "# read = dataset['Reading']\n",
        "\n",
        "#using loop\n",
        "\n",
        "# cols = []\n",
        "# columns = dataset.columns\n",
        "# for i in range(len(columns)-1):\n",
        "#   cols.append(columns[i])\n",
        "\n",
        "# X = dataset[cols].to_numpy()\n",
        "\n",
        "#using slicing\n",
        "\n",
        "X = dataset.iloc[:, :-1].to_numpy()  # select [allrows, allcolumns except last]\n",
        "\n",
        "print(X)\n",
        "\n",
        "\n"
      ],
      "metadata": {
        "colab": {
          "base_uri": "https://localhost:8080/"
        },
        "id": "MqLp9fSuiq_U",
        "outputId": "41348a8c-a6bd-439a-98fd-8bb7e7ca308b"
      },
      "execution_count": 3,
      "outputs": [
        {
          "output_type": "stream",
          "name": "stdout",
          "text": [
            "[[48 68]\n",
            " [62 81]\n",
            " [79 80]\n",
            " ...\n",
            " [89 87]\n",
            " [83 82]\n",
            " [66 66]]\n"
          ]
        }
      ]
    },
    {
      "cell_type": "code",
      "source": [
        "write = dataset[\"Writing\"]\n",
        "\n",
        "Y = write.to_numpy()\n",
        "print(Y)"
      ],
      "metadata": {
        "colab": {
          "base_uri": "https://localhost:8080/"
        },
        "id": "vviCIDDkjnRW",
        "outputId": "5df0b8ea-a03c-4908-ab14-9dbe4e48fc98"
      },
      "execution_count": 5,
      "outputs": [
        {
          "output_type": "stream",
          "name": "stdout",
          "text": [
            "[ 63  72  78  79  62  85  83  41  80  77  64  90  45  77  70  46  76  44\n",
            "  85  72  53  66  75  49  84  83  68  66  77  78  74  83  72  65  46  66\n",
            "  50  79  68  46  86  70  61  53  72  75  50  77 100  81 100  87  78  48\n",
            "  50  44  48  43  67  78  58  91  92  78  42  85  73  83  61  58  60  55\n",
            "  48  62  68  59  62  48  74  63  80  79  73  79  45  67  89  77  81  88\n",
            "  53  68  79  77  63  73  60  67 100  79  26  51  80  57  41  78  68  49\n",
            "  76  41  71  77  89  86  55  80  56  74  85  80  73  74  86  56  53  44\n",
            "  41  59  71  81  74  78  67  53  56  75  82  79  99  76  59  96  75  61\n",
            "  56  88  65 100  79  55  61  83  74  59  54  47  82  74  59  74  84  59\n",
            "  43  65  61  78  84  73  73  92  63  72  61  59  70  87  78  65  73  62\n",
            "  69  55  73  63  67  86  78  85  83  80  60  90  56  70  55  80  82  60\n",
            "  78  76  94  75  68  71  85  46  58  46  84  58  57  59  77  63  68  99\n",
            "  48  91  57  80  46  75  59  87  82  79  66  68  66  61  66  63  72  73\n",
            "  77  84  83  42  72  76  76  39  74  43  63  74  52  31  65  45  87  63\n",
            "  51  82  86  76  27  70  79  66  61  62  47  17  65  76  75  66  59  61\n",
            "  93  40  66  43  71  64  55  86  65  70  65  53  49  67  76  95  76  48\n",
            "  60  53  69  78  62  66  51  52  46  42  77  57 100  84  68  48  72  50\n",
            "  72  55  72  77  56  94  67  82  75  80  60  73  74  62  53  69  75  60\n",
            "  58  71  87  74  87  73  78  76  74  55  94  71  76  59  91  57  83  59\n",
            "  93  64  58  79  96  76  64  70  80  33  95  64  92  34  72  81  57  79\n",
            "  84  82  54  45  54  62  49  74  59  63  83  62  72  72  65  65  54  78\n",
            "  82  85  74  83  71  83  77  66  75  52  68  84  67  70  41  91  46  58\n",
            "  67  70  83  64 100  49  77  57  67  80  74  41  67  59  86  88  57  80\n",
            "  58  52  31  84  97  71  62  58  71  41  66 100  51  35  81  94  72  38\n",
            "  82  79  55  75  90  95  65  39  85  86  54  93  69  84  78  58  73  60\n",
            "  44  67  69  55  59  88  42  78  84  68  66  51  43  38  69  90  73  67\n",
            "  57  81  63  80  78  65  74  80  60  60  63  64  72  51  71  63  82  76\n",
            "  39  79  48  70  90  73  58 100  80  75  72  79  52  56  65  45  59  61\n",
            "  47  62  83  90  76  72  69  57  56  40  79  48  57  47  78  45  74  69\n",
            "  59  85  45  54  72  74  75  55  49  53  83  22 100  67  83  46  43  74\n",
            "  64  35  67  87  77  91  74  96  82  78  73  52  91  66  67  71  74  71\n",
            "  61  47  76  85  93  41  81  86  53  91  68  96  48  71  75  72  71  62\n",
            "  67  53  74  63  82  57  69  52  91  73  73  75  36  71  62 100  50  74\n",
            "  60  75  83  83 100  67  71  77  67  95  52  71  74  60  67  79  75  95\n",
            "  69  80  48  61  82  39  70  70  69  32  79  53  59  83 100  80  80  82\n",
            "  56  83  85  88  81  95  63  70  89  59  56  62  95  63  82  69  58  74\n",
            "  66  82  94  70  78  63  91  70  62  79  65  74  56  65 100  70  66  54\n",
            "  72  90  56  65  50  95  38  76  84  76  55  85  70  73  80  83  53  67\n",
            " 100  67  44  96  48  77 100  40  91  55  41  25  63  59  63  77  46  49\n",
            "  46  93  39  58  87  57  77 100  65  34  87  81  63  69  74  70  93  63\n",
            "  81  81  63  87  76  54  89  63  76  79  75  50  36  82  83  85  82  41\n",
            "  82  45  57  88  81  98  61  95  84  71  52  71  90  75  62  63  86  70\n",
            "  77  68  80  67  67  89  60  79  80  78  70  72  43  14  54  92  71  65\n",
            "  58  56  67  64  81  55  45  86  52  75  81  62  42  21  72  55  66  69\n",
            "  86  67  78  85  66  47 100  63  62  61  69  57  76  52  47  51  61  45\n",
            "  59  81  65  53  61  90  74  62  67  50  84  70  52  92  65  65  67  72\n",
            "  66  62  99  62  53  57  78  56  87  79  63  87  86  75  70  60  49  41\n",
            "  78  58  75  89  34  60  80  85  73  58  69  74  52  58  79  86  61  68\n",
            "  67  48  65  73  57  73  57  80  85  81  61  69 100  99  92  72  57  44\n",
            "  59  62  93  64  57  72  40  85  60  83  63  74  44  61  74  68  78  50\n",
            "  70  68  82  46  96 100  44  41  95  79  67  52  87  75  61  42  60  57\n",
            "  64  52  68  58  93  75  77  66  63  90  43  65  95  86  31  95  52  63\n",
            "  87  70  59  84  79  77  75  66  69  85  63  50  58  80  47  55  61  87\n",
            "  77  54  66  68  54  69  74  81  72  61  76  63  64  73  62  92  69  70\n",
            "  65  53  74  61  80  85  62  80  83  56  76  52  51  74  57  63  61  87\n",
            "  60  54  89  67  56  70  90  94  78  72]\n"
          ]
        }
      ]
    },
    {
      "cell_type": "code",
      "source": [
        "print(X.shape)\n",
        "print(Y.shape)"
      ],
      "metadata": {
        "colab": {
          "base_uri": "https://localhost:8080/"
        },
        "id": "-1QJvoW_l7bb",
        "outputId": "64ec4cf7-1c9d-4512-fdde-9e07d24e7fe5"
      },
      "execution_count": null,
      "outputs": [
        {
          "output_type": "stream",
          "name": "stdout",
          "text": [
            "(1000, 2)\n",
            "(1000,)\n"
          ]
        }
      ]
    },
    {
      "cell_type": "code",
      "source": [
        "W = np.array([0,0,0])\n",
        "print(W)"
      ],
      "metadata": {
        "colab": {
          "base_uri": "https://localhost:8080/"
        },
        "id": "Gdb11GbvrIg_",
        "outputId": "27748e8a-255c-406c-cb0c-c5a9d8190628"
      },
      "execution_count": 19,
      "outputs": [
        {
          "output_type": "stream",
          "name": "stdout",
          "text": [
            "[0 0 0]\n"
          ]
        }
      ]
    },
    {
      "cell_type": "code",
      "source": [
        "#updating X because  y = w0 + w1x1 +w2x2 ... >>  in first term there is no x so that\n",
        "X = np.insert(X,0, 1, axis =1);  # (array, index, value, column) >>inserting value\n",
        "print(X)"
      ],
      "metadata": {
        "colab": {
          "base_uri": "https://localhost:8080/"
        },
        "id": "t77qdP5hMIUy",
        "outputId": "7b5cc935-6ab2-4813-a4d2-2bdc48af5d0b"
      },
      "execution_count": 20,
      "outputs": [
        {
          "output_type": "stream",
          "name": "stdout",
          "text": [
            "[[ 1 48 68]\n",
            " [ 1 62 81]\n",
            " [ 1 79 80]\n",
            " ...\n",
            " [ 1 89 87]\n",
            " [ 1 83 82]\n",
            " [ 1 66 66]]\n"
          ]
        }
      ]
    },
    {
      "cell_type": "code",
      "source": [
        "#cost function\n",
        "# the cost function\n",
        "def cost_function(X, Y, W):\n",
        "    \"\"\" Parameters:\n",
        "    This function finds the Mean Square Error.\n",
        "    Input parameters:\n",
        "      X: Feature Matrix\n",
        "      Y: Target Matrix\n",
        "      W: Weight Matrix\n",
        "    Output Parameters:\n",
        "      J: accumulated mean square error.\n",
        "    \"\"\"\n",
        "    # Your code here:\n",
        "    m = len(Y)\n",
        "    h_thita = np.dot(X,W)     # were W can be thita\n",
        "    err = h_thita - Y\n",
        "    J = (1/(2*m))* np.sum(err ** 2 )  # where J is cost function\n",
        "\n",
        "\n",
        "    return J"
      ],
      "metadata": {
        "id": "OO_CDmsCrYRo"
      },
      "execution_count": 15,
      "outputs": []
    },
    {
      "cell_type": "code",
      "source": [
        "#passing the values\n",
        "inital_cost = cost_function(X, Y, W)\n",
        "print(inital_cost)"
      ],
      "metadata": {
        "colab": {
          "base_uri": "https://localhost:8080/"
        },
        "id": "arZk30rdK9EI",
        "outputId": "9245ec6a-25af-4365-9729-5ac75150ac1f"
      },
      "execution_count": 21,
      "outputs": [
        {
          "output_type": "stream",
          "name": "stdout",
          "text": [
            "2470.11\n"
          ]
        }
      ]
    },
    {
      "cell_type": "code",
      "source": [
        "# Gradient descent\n",
        "def gradient_descent(X, Y, W, alpha, iterations):\n",
        "    cost_history = [0] * iterations\n",
        "    m = len(Y)\n",
        "\n",
        "    for iteration in range(iterations):\n",
        "        # Hypothesis Values\n",
        "        Y_pred = X.dot(W)\n",
        "        # Difference b/w Hypothesis and Actual Y\n",
        "        loss = Y_pred - Y\n",
        "        # Gradient Calculation\n",
        "        dw = X.T.dot(loss) / m\n",
        "        # Changing Values of B using Gradient\n",
        "        W_update = W - alpha * dw\n",
        "        # New Cost Value\n",
        "        cost = cost_function(X, Y, W_update)\n",
        "        cost_history[iteration] = cost\n",
        "\n",
        "\n",
        "\n",
        "    return W_update, cost_history"
      ],
      "metadata": {
        "id": "MY7byvxANHqC"
      },
      "execution_count": 29,
      "outputs": []
    },
    {
      "cell_type": "code",
      "source": [
        "# 100000 Iterations\n",
        "alpha = 0.0001 # Learning Rate.\n",
        "new_weights, cost_history = gradient_descent(X, Y, W, alpha, 100000)\n",
        "\n",
        "# New Values of\n",
        "print(new_weights)\n",
        "\n",
        "# Final Cost of our Iterations.\n",
        "print(cost_history[-1])"
      ],
      "metadata": {
        "colab": {
          "base_uri": "https://localhost:8080/"
        },
        "id": "4lSaGqtEVpcJ",
        "outputId": "f5efa826-a810-4abe-f0cc-e52dcaf365a1"
      },
      "execution_count": 30,
      "outputs": [
        {
          "output_type": "stream",
          "name": "stdout",
          "text": [
            "[0.0068616 0.4801185 0.5006844]\n",
            "18.076027940915417\n"
          ]
        }
      ]
    },
    {
      "cell_type": "code",
      "source": [
        "#Model Evaluation\n",
        "\n",
        "# Model Evaluation - RMSE\n",
        "def rmse(Y, Y_pred):\n",
        "  \"\"\"\n",
        "  This Function calculates the Root Mean Squres.\n",
        "  Input Arguments:\n",
        "    Y: Array of actual(Target) Dependent Varaibles.\n",
        "    Y_pred: Array of predeicted Dependent Varaibles.\n",
        "  Output Arguments:\n",
        "    rmse: Root Mean Square.\n",
        "  \"\"\"\n",
        "  m = len(Y)\n",
        "  mse = np.sum((Y-Y_pred)**2)/m\n",
        "  rmse = np.sqrt(mse)\n",
        "  return rmse\n",
        "\n",
        "# Model Evaluation - R2\n",
        "\n",
        "def r2(Y, Y_pred):\n",
        "  \"\"\"\n",
        "   This Function calculates the R Squared Error.\n",
        "  Input Arguments:\n",
        "    Y: Array of actual(Target) Dependent Varaibles.\n",
        "    Y_pred: Array of predeicted Dependent Varaibles.\n",
        "  Output Arguments:\n",
        "    rsquared: R Squared Error.\n",
        "    \"\"\"\n",
        "  mean_y = np.mean(Y)\n",
        "  ss_tot = np.sum((Y - mean_y) ** 2)\n",
        "  ss_res = np.sum((Y -Y_pred) ** 2)\n",
        "  r2 = 1 - (ss_res/ ss_tot)\n",
        "  return r2\n"
      ],
      "metadata": {
        "id": "SwsuNGIBWGVF"
      },
      "execution_count": 34,
      "outputs": []
    },
    {
      "cell_type": "code",
      "source": [
        "#checking model performance\n",
        "Y_pred = X.dot(new_weights)\n",
        "print(X)\n",
        "print(rmse(Y, Y_pred))\n",
        "print(r2(Y, Y_pred))"
      ],
      "metadata": {
        "colab": {
          "base_uri": "https://localhost:8080/"
        },
        "id": "1Dt9HFbpZ6-m",
        "outputId": "272d7be7-29f6-4365-cb6f-4c5cac5ba2dd"
      },
      "execution_count": 39,
      "outputs": [
        {
          "output_type": "stream",
          "name": "stdout",
          "text": [
            "[[ 1 48 68]\n",
            " [ 1 62 81]\n",
            " [ 1 79 80]\n",
            " ...\n",
            " [ 1 89 87]\n",
            " [ 1 83 82]\n",
            " [ 1 66 66]]\n",
            "6.012657971465767\n",
            "0.8442155132417348\n"
          ]
        }
      ]
    },
    {
      "cell_type": "code",
      "source": [
        "#for my predection of new values\n",
        "C = np.array([[48,68],[50,55],[42,64],[59,64]])\n",
        "C = np.insert(C,0,1,axis=1)\n",
        "new_Y_pred = C.dot(new_weights)\n",
        "print(new_Y_pred)"
      ],
      "metadata": {
        "colab": {
          "base_uri": "https://localhost:8080/"
        },
        "id": "x_dYM_uSanrH",
        "outputId": "1886a9a5-ca7f-46aa-caf1-65a08d281650"
      },
      "execution_count": 43,
      "outputs": [
        {
          "output_type": "stream",
          "name": "stdout",
          "text": [
            "[57.0990888 51.5504286 52.2156402 60.3776547]\n"
          ]
        }
      ]
    }
  ]
}