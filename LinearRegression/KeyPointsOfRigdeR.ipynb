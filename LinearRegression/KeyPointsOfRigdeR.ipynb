{
 "cells": [
  {
   "cell_type": "markdown",
   "id": "ad7c2ba4-fce5-42b4-aba4-bfe4cd318a4b",
   "metadata": {},
   "source": [
    "# Key Points about Rigde Regression"
   ]
  },
  {
   "cell_type": "markdown",
   "id": "7f565013-7bb0-48eb-8440-33900bea55e4",
   "metadata": {},
   "source": [
    "### How coefficient get effected ? What will be the impact of increasing value of lambda(λ)?"
   ]
  },
  {
   "cell_type": "markdown",
   "id": "464e1f24-32ee-49d5-9733-ec5dfd4fb1a8",
   "metadata": {},
   "source": [
    "In Rigde regression **extra term** is added in the normal **loss function** to minimize the **overfitting** of the model.\n",
    "The extra term is : **λ * $||W||^{2}$**    where $||W||^{2}$ = ($w1^{2}$ + $w1^{2}$ + .... + $wn^{2}$) $x^{2}$ \n",
    "\n",
    "Ans: By increasing the value of lambda, the values of w will srink towards 0(zero) but never become zero."
   ]
  },
  {
   "cell_type": "code",
   "execution_count": 4,
   "id": "88d348dd-0cde-4167-8fbd-49d008ee18ef",
   "metadata": {},
   "outputs": [],
   "source": [
    "from sklearn.datasets import load_diabetes\n",
    "import numpy as np\n",
    "import matplotlib.pyplot as plt\n",
    "import pandas as pd"
   ]
  },
  {
   "cell_type": "code",
   "execution_count": 12,
   "id": "d439f0dd-30e3-47bb-903f-89e36929c7c0",
   "metadata": {},
   "outputs": [
    {
     "data": {
      "text/html": [
       "<div>\n",
       "<style scoped>\n",
       "    .dataframe tbody tr th:only-of-type {\n",
       "        vertical-align: middle;\n",
       "    }\n",
       "\n",
       "    .dataframe tbody tr th {\n",
       "        vertical-align: top;\n",
       "    }\n",
       "\n",
       "    .dataframe thead th {\n",
       "        text-align: right;\n",
       "    }\n",
       "</style>\n",
       "<table border=\"1\" class=\"dataframe\">\n",
       "  <thead>\n",
       "    <tr style=\"text-align: right;\">\n",
       "      <th></th>\n",
       "      <th>age</th>\n",
       "      <th>sex</th>\n",
       "      <th>bmi</th>\n",
       "      <th>bp</th>\n",
       "      <th>s1</th>\n",
       "      <th>s2</th>\n",
       "      <th>s3</th>\n",
       "      <th>s4</th>\n",
       "      <th>s5</th>\n",
       "      <th>s6</th>\n",
       "      <th>Target</th>\n",
       "    </tr>\n",
       "  </thead>\n",
       "  <tbody>\n",
       "    <tr>\n",
       "      <th>0</th>\n",
       "      <td>0.038076</td>\n",
       "      <td>0.050680</td>\n",
       "      <td>0.061696</td>\n",
       "      <td>0.021872</td>\n",
       "      <td>-0.044223</td>\n",
       "      <td>-0.034821</td>\n",
       "      <td>-0.043401</td>\n",
       "      <td>-0.002592</td>\n",
       "      <td>0.019907</td>\n",
       "      <td>-0.017646</td>\n",
       "      <td>151.0</td>\n",
       "    </tr>\n",
       "    <tr>\n",
       "      <th>1</th>\n",
       "      <td>-0.001882</td>\n",
       "      <td>-0.044642</td>\n",
       "      <td>-0.051474</td>\n",
       "      <td>-0.026328</td>\n",
       "      <td>-0.008449</td>\n",
       "      <td>-0.019163</td>\n",
       "      <td>0.074412</td>\n",
       "      <td>-0.039493</td>\n",
       "      <td>-0.068332</td>\n",
       "      <td>-0.092204</td>\n",
       "      <td>75.0</td>\n",
       "    </tr>\n",
       "    <tr>\n",
       "      <th>2</th>\n",
       "      <td>0.085299</td>\n",
       "      <td>0.050680</td>\n",
       "      <td>0.044451</td>\n",
       "      <td>-0.005670</td>\n",
       "      <td>-0.045599</td>\n",
       "      <td>-0.034194</td>\n",
       "      <td>-0.032356</td>\n",
       "      <td>-0.002592</td>\n",
       "      <td>0.002861</td>\n",
       "      <td>-0.025930</td>\n",
       "      <td>141.0</td>\n",
       "    </tr>\n",
       "    <tr>\n",
       "      <th>3</th>\n",
       "      <td>-0.089063</td>\n",
       "      <td>-0.044642</td>\n",
       "      <td>-0.011595</td>\n",
       "      <td>-0.036656</td>\n",
       "      <td>0.012191</td>\n",
       "      <td>0.024991</td>\n",
       "      <td>-0.036038</td>\n",
       "      <td>0.034309</td>\n",
       "      <td>0.022688</td>\n",
       "      <td>-0.009362</td>\n",
       "      <td>206.0</td>\n",
       "    </tr>\n",
       "    <tr>\n",
       "      <th>4</th>\n",
       "      <td>0.005383</td>\n",
       "      <td>-0.044642</td>\n",
       "      <td>-0.036385</td>\n",
       "      <td>0.021872</td>\n",
       "      <td>0.003935</td>\n",
       "      <td>0.015596</td>\n",
       "      <td>0.008142</td>\n",
       "      <td>-0.002592</td>\n",
       "      <td>-0.031988</td>\n",
       "      <td>-0.046641</td>\n",
       "      <td>135.0</td>\n",
       "    </tr>\n",
       "  </tbody>\n",
       "</table>\n",
       "</div>"
      ],
      "text/plain": [
       "        age       sex       bmi        bp        s1        s2        s3  \\\n",
       "0  0.038076  0.050680  0.061696  0.021872 -0.044223 -0.034821 -0.043401   \n",
       "1 -0.001882 -0.044642 -0.051474 -0.026328 -0.008449 -0.019163  0.074412   \n",
       "2  0.085299  0.050680  0.044451 -0.005670 -0.045599 -0.034194 -0.032356   \n",
       "3 -0.089063 -0.044642 -0.011595 -0.036656  0.012191  0.024991 -0.036038   \n",
       "4  0.005383 -0.044642 -0.036385  0.021872  0.003935  0.015596  0.008142   \n",
       "\n",
       "         s4        s5        s6  Target  \n",
       "0 -0.002592  0.019907 -0.017646   151.0  \n",
       "1 -0.039493 -0.068332 -0.092204    75.0  \n",
       "2 -0.002592  0.002861 -0.025930   141.0  \n",
       "3  0.034309  0.022688 -0.009362   206.0  \n",
       "4 -0.002592 -0.031988 -0.046641   135.0  "
      ]
     },
     "execution_count": 12,
     "metadata": {},
     "output_type": "execute_result"
    }
   ],
   "source": [
    "data = load_diabetes()\n",
    "\n",
    "df = pd.DataFrame(data.data, columns= data.feature_names)\n",
    "df['Target']= data.target\n",
    "\n",
    "df.head()"
   ]
  },
  {
   "cell_type": "code",
   "execution_count": 13,
   "id": "ed8332bf-9d14-42d2-8b66-b5e3c621a780",
   "metadata": {},
   "outputs": [
    {
     "data": {
      "text/plain": [
       "(442, 11)"
      ]
     },
     "execution_count": 13,
     "metadata": {},
     "output_type": "execute_result"
    }
   ],
   "source": [
    "df.shape"
   ]
  },
  {
   "cell_type": "code",
   "execution_count": 19,
   "id": "9a68bf68-0314-469f-a0c7-45ce12e726dc",
   "metadata": {},
   "outputs": [],
   "source": [
    "X = df.iloc[ : , :-1]\n",
    "y = df.iloc[ : , -1]\n"
   ]
  },
  {
   "cell_type": "code",
   "execution_count": 20,
   "id": "f2563b28-5889-43ec-b796-dc800cd37089",
   "metadata": {},
   "outputs": [],
   "source": [
    "from sklearn.model_selection import train_test_split\n",
    "X_train, X_test, y_train, y_test = train_test_split(X,y, test_size=0.2, random_state=32)"
   ]
  },
  {
   "cell_type": "code",
   "execution_count": 14,
   "id": "8018ace9-1523-441c-aeb2-f61c1341bab8",
   "metadata": {},
   "outputs": [],
   "source": [
    "from sklearn.linear_model import Ridge\n",
    "from sklearn.metrics import r2_score"
   ]
  },
  {
   "cell_type": "code",
   "execution_count": 24,
   "id": "41e2e115-583e-4019-b577-0773f1a26d49",
   "metadata": {},
   "outputs": [
    {
     "name": "stdout",
     "output_type": "stream",
     "text": [
      "coefs :  [array([  32.50000078, -274.2083569 ,  501.52744069,  368.7931961 ,\n",
      "       -822.31120988,  504.23867319,  101.57697155,  158.16545687,\n",
      "        744.91541712,   78.40553632]), array([ 18.1115002 ,  -2.94767323,  64.53425911,  49.25380664,\n",
      "        17.24968354,  12.19747676, -40.21496581,  40.10797605,\n",
      "        60.21162828,  39.76193678]), array([  8.65366789,  -0.16750347,  28.83527671,  22.12147854,\n",
      "         8.99158668,   6.91361128, -18.45521668,  19.13177601,\n",
      "        27.31635128,  18.52432864]), array([ 4.61935455,  0.13607983, 15.02552491, 11.5488812 ,  4.9433343 ,\n",
      "        3.89591675, -9.7108472 , 10.20940585, 14.31778071,  9.79849747]), array([ 2.38972588,  0.12918769,  7.67710896,  5.90654204,  2.59557904,\n",
      "        2.06991041, -4.98675496,  5.28106876,  7.33824708,  5.04523119])]\n",
      "r2_scores :  [0.4522338796354569, 0.1607000851957444, 0.07488515708444254, 0.03632823544811603, 0.014481188172243864]\n"
     ]
    }
   ],
   "source": [
    "coefs = []\n",
    "r2_scores = []\n",
    "\n",
    "for i in [0,10,50,100]:\n",
    "    rg = Ridge(alpha=i)\n",
    "    rg.fit(X_train,y_train)\n",
    "    ypred = rg.predict(X_test)\n",
    "    coefs.append(rg.coef_)\n",
    "    r2_scores.append(r2_score(y_test,ypred))\n",
    "\n",
    "print(\"coefs : \",coefs)\n",
    "print(\"r2_scores : \",r2_scores)"
   ]
  },
  {
   "cell_type": "code",
   "execution_count": 26,
   "id": "f75ac004-a7ea-4d16-87c2-7852b810e5a2",
   "metadata": {},
   "outputs": [
    {
     "data": {
      "text/plain": [
       "Text(0.5, 1.0, 'apha= 100, r2_score=0.04')"
      ]
     },
     "execution_count": 26,
     "metadata": {},
     "output_type": "execute_result"
    },
    {
     "data": {
      "image/png": "[encoded data removed]",
      "text/plain": [
       "<Figure size 1400x900 with 4 Axes>"
      ]
     },
     "metadata": {},
     "output_type": "display_data"
    }
   ],
   "source": [
    "plt.figure(figsize=(14,9))\n",
    "plt.subplot(221)\n",
    "plt.bar(data.feature_names,coefs[0])\n",
    "plt.title(f\"apha= 0, r2_score={round(r2_scores[0],2)}\")\n",
    "\n",
    "plt.subplot(222)\n",
    "plt.bar(data.feature_names,coefs[1])\n",
    "plt.title(f\"apha= 10, r2_score={round(r2_scores[1],2)}\")\n",
    "\n",
    "plt.subplot(223)\n",
    "plt.bar(data.feature_names,coefs[2])\n",
    "plt.title(f\"apha= 50, r2_score={round(r2_scores[2],2)}\")\n",
    "\n",
    "plt.subplot(224)\n",
    "plt.bar(data.feature_names,coefs[3])\n",
    "plt.title(f\"apha= 100, r2_score={round(r2_scores[3],2)}\")\n",
    "plt.show()"
   ]
  },
  {
   "cell_type": "markdown",
   "id": "c5f2d587-2389-4d87-a5b9-bada4065a1e0",
   "metadata": {},
   "source": [
    "### This plot shows that increasing the values of lambda(λ) will srink the values of m towards 0 but never be 0."
   ]
  },
  {
   "cell_type": "code",
   "execution_count": null,
   "id": "dd37e16f-2b79-40d5-a875-90acc6124197",
   "metadata": {},
   "outputs": [],
   "source": []
  }
 ],
 "metadata": {
  "kernelspec": {
   "display_name": "Python 3 (ipykernel)",
   "language": "python",
   "name": "python3"
  },
  "language_info": {
   "codemirror_mode": {
    "name": "ipython",
    "version": 3
   },
   "file_extension": ".py",
   "mimetype": "text/x-python",
   "name": "python",
   "nbconvert_exporter": "python",
   "pygments_lexer": "ipython3",
   "version": "3.12.4"
  }
 },
 "nbformat": 4,
 "nbformat_minor": 5
}
