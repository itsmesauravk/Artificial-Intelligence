{
 "cells": [
  {
   "cell_type": "markdown",
   "id": "0acd72e1-034d-4466-b59f-4c1b57527366",
   "metadata": {},
   "source": [
    "## Rigid Regression for n-Dimension from scratch"
   ]
  },
  {
   "cell_type": "code",
   "execution_count": 3,
   "id": "b46f5d9d-1fb8-41e1-ab13-23f8dad81855",
   "metadata": {},
   "outputs": [],
   "source": [
    "from sklearn.datasets import load_diabetes\n",
    "from sklearn.metrics import r2_score\n",
    "import numpy as np"
   ]
  },
  {
   "cell_type": "code",
   "execution_count": 4,
   "id": "5e98d287-270f-4e6b-a26c-1e62a260255b",
   "metadata": {},
   "outputs": [],
   "source": [
    "X,y = load_diabetes(return_X_y = True)"
   ]
  },
  {
   "cell_type": "code",
   "execution_count": 5,
   "id": "c531e5af-928d-4eee-9069-d687cacd5372",
   "metadata": {},
   "outputs": [],
   "source": [
    "from sklearn.model_selection import train_test_split"
   ]
  },
  {
   "cell_type": "code",
   "execution_count": 6,
   "id": "9524227c-7d49-4fbd-8908-39e24303a37d",
   "metadata": {},
   "outputs": [],
   "source": [
    "X_train,X_test, y_train, y_test = train_test_split(X,y,test_size=0.2, random_state=32)"
   ]
  },
  {
   "cell_type": "code",
   "execution_count": 7,
   "id": "e07e0c4b-cad5-469d-9563-e42475393759",
   "metadata": {},
   "outputs": [],
   "source": [
    "from sklearn.linear_model import Ridge"
   ]
  },
  {
   "cell_type": "code",
   "execution_count": 9,
   "id": "758eaae0-e690-4599-881c-419c0795d331",
   "metadata": {},
   "outputs": [],
   "source": [
    "reg = Ridge(alpha=0.1, solver='cholesky')"
   ]
  },
  {
   "cell_type": "code",
   "execution_count": 10,
   "id": "ff2cfadb-28b8-4d3b-8d32-c43b685e97f7",
   "metadata": {},
   "outputs": [],
   "source": [
    "reg.fit(X_train,y_train)\n",
    "y_pred = reg.predict(X_test)"
   ]
  },
  {
   "cell_type": "code",
   "execution_count": 11,
   "id": "b3c16ea5-4145-46f7-ae4c-58ce68743e09",
   "metadata": {},
   "outputs": [
    {
     "data": {
      "text/plain": [
       "0.45325889776269346"
      ]
     },
     "execution_count": 11,
     "metadata": {},
     "output_type": "execute_result"
    }
   ],
   "source": [
    "r2_score(y_test,y_pred)"
   ]
  },
  {
   "cell_type": "code",
   "execution_count": 12,
   "id": "0a39ffe3-01b0-4f0c-9fa4-378728d82ace",
   "metadata": {},
   "outputs": [
    {
     "name": "stdout",
     "output_type": "stream",
     "text": [
      "[  37.93172069 -232.88887148  465.78070277  338.23126522  -77.75109019\n",
      "  -69.16450635 -194.22090004  103.48718113  420.14109006  103.79410067]\n",
      "154.07032808420277\n"
     ]
    }
   ],
   "source": [
    "print(reg.coef_)\n",
    "print(reg.intercept_)"
   ]
  },
  {
   "cell_type": "markdown",
   "id": "5f44d62f-ac43-4218-9ed3-ed4827cb5860",
   "metadata": {},
   "source": [
    "## Making n-dim rigid regression from scratch"
   ]
  },
  {
   "cell_type": "code",
   "execution_count": 36,
   "id": "bf0ed570-c38b-443d-81ae-37efb28a71d2",
   "metadata": {},
   "outputs": [],
   "source": [
    "class Rigid_Regression:\n",
    "    def __init__(self, alpha=0.1):\n",
    "        self.alpha = alpha\n",
    "        self.coef_ = None\n",
    "        self.intercept_ = None\n",
    "    def fit(self, X_train,y_train):\n",
    "        X_train = np.insert(X_train,0,1,axis=1)\n",
    "        I  = np.identity(X_train.shape[1])  #identitiy metrics\n",
    "        result = np.linalg.inv(np.dot(X_train.T, X_train) + self.alpha * I).dot(X_train.T).dot(y_train)\n",
    "        self.intercept_ = result[0]\n",
    "        self.coef_ = result[1:]\n",
    "        \n",
    "    def predict(self, X_test):\n",
    "        return np.dot(X_test,self.coef_) + self.intercept_"
   ]
  },
  {
   "cell_type": "code",
   "execution_count": 37,
   "id": "349f805b-343c-4450-acb4-1da0ad229cc9",
   "metadata": {},
   "outputs": [
    {
     "data": {
      "text/plain": [
       "array([[ 1.        ,  0.06350368,  0.05068012, ...,  0.07120998,\n",
       "         0.02929656,  0.07348023],\n",
       "       [ 1.        ,  0.02354575,  0.05068012, ..., -0.03949338,\n",
       "        -0.09643495, -0.01764613],\n",
       "       [ 1.        ,  0.03444337,  0.05068012, ..., -0.00259226,\n",
       "         0.02405509, -0.03835666],\n",
       "       ...,\n",
       "       [ 1.        , -0.00551455,  0.05068012, ..., -0.03949338,\n",
       "        -0.04117617, -0.08806194],\n",
       "       [ 1.        ,  0.01991321, -0.04464164, ..., -0.0763945 ,\n",
       "        -0.04257085,  0.07348023],\n",
       "       [ 1.        ,  0.02717829,  0.05068012, ..., -0.00259226,\n",
       "         0.03664373,  0.10661708]])"
      ]
     },
     "execution_count": 37,
     "metadata": {},
     "output_type": "execute_result"
    }
   ],
   "source": [
    "np.insert(X_train,0,1,axis=1)"
   ]
  },
  {
   "cell_type": "code",
   "execution_count": 38,
   "id": "253f2d3d-e4b1-4750-bdf8-99bc8629be03",
   "metadata": {},
   "outputs": [],
   "source": [
    "rgr = Rigid_Regression()"
   ]
  },
  {
   "cell_type": "code",
   "execution_count": 39,
   "id": "9775e733-5286-4dd9-a006-152ee2e8a20a",
   "metadata": {},
   "outputs": [],
   "source": [
    "rgr.fit(X_train,y_train)"
   ]
  },
  {
   "cell_type": "code",
   "execution_count": 40,
   "id": "8d78949c-2e40-4937-beb7-dabb95f5f54b",
   "metadata": {},
   "outputs": [],
   "source": [
    "y_pred_rgr = rgr.predict(X_test)"
   ]
  },
  {
   "cell_type": "code",
   "execution_count": 41,
   "id": "2ea66155-48d7-482a-9675-b0f48c2885fa",
   "metadata": {},
   "outputs": [
    {
     "data": {
      "text/plain": [
       "0.45342498134313225"
      ]
     },
     "execution_count": 41,
     "metadata": {},
     "output_type": "execute_result"
    }
   ],
   "source": [
    "r2_score(y_test,y_pred_rgr)"
   ]
  },
  {
   "cell_type": "code",
   "execution_count": 42,
   "id": "81ba70f8-8599-462b-9154-aed6f48de823",
   "metadata": {},
   "outputs": [
    {
     "name": "stdout",
     "output_type": "stream",
     "text": [
      "[  37.89147344 -232.89231058  465.79060882  338.23698805  -77.70920721\n",
      "  -69.13951584 -194.21564822  103.45893712  420.11425703  103.81677075]\n",
      "154.02642634618402\n"
     ]
    }
   ],
   "source": [
    "print(rgr.coef_)\n",
    "print(rgr.intercept_)"
   ]
  },
  {
   "cell_type": "code",
   "execution_count": null,
   "id": "e2bac760-99f2-4108-82e2-98f41204e1c1",
   "metadata": {},
   "outputs": [],
   "source": []
  }
 ],
 "metadata": {
  "kernelspec": {
   "display_name": "Python 3 (ipykernel)",
   "language": "python",
   "name": "python3"
  },
  "language_info": {
   "codemirror_mode": {
    "name": "ipython",
    "version": 3
   },
   "file_extension": ".py",
   "mimetype": "text/x-python",
   "name": "python",
   "nbconvert_exporter": "python",
   "pygments_lexer": "ipython3",
   "version": "3.12.4"
  }
 },
 "nbformat": 4,
 "nbformat_minor": 5
}
