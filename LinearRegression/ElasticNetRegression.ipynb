{
 "cells": [
  {
   "cell_type": "markdown",
   "id": "4e70a1de-0cd8-422a-964d-b0fbd243cddc",
   "metadata": {},
   "source": [
    "# For ElasticNet Regression"
   ]
  },
  {
   "cell_type": "markdown",
   "id": "01dc560b-5835-43d0-979c-9fa63eb5fee8",
   "metadata": {},
   "source": [
    "## Compared result for all <br>\n",
    "**LinearRegression**<br>\n",
    "**Ridge Regression**<br>\n",
    "**Lasso Regression**<br>\n",
    "**ElasticNet Regression**"
   ]
  },
  {
   "cell_type": "code",
   "execution_count": 1,
   "id": "d06ede73-35d4-4d08-bec5-b01784088937",
   "metadata": {},
   "outputs": [],
   "source": [
    "import numpy as np\n",
    "import pandas as pd\n",
    "from sklearn.datasets import load_diabetes\n",
    "from sklearn.linear_model import LinearRegression,Ridge,Lasso, ElasticNet\n",
    "from sklearn.model_selection import train_test_split\n",
    "from sklearn.metrics import r2_score\n"
   ]
  },
  {
   "cell_type": "code",
   "execution_count": 2,
   "id": "76366d8c-7571-40d4-9182-0c86da520888",
   "metadata": {},
   "outputs": [],
   "source": [
    "X,y = load_diabetes(return_X_y = True)"
   ]
  },
  {
   "cell_type": "code",
   "execution_count": 3,
   "id": "a4298ad9-5ada-4a84-b7e7-cb1485cc3e54",
   "metadata": {},
   "outputs": [],
   "source": [
    "X_train,X_test,y_train,y_test = train_test_split(X,y, test_size=0.2, random_state=13)"
   ]
  },
  {
   "cell_type": "markdown",
   "id": "616c403c-af32-4777-a16e-43f5ab8d7aa1",
   "metadata": {},
   "source": [
    "**Linear Regression**"
   ]
  },
  {
   "cell_type": "code",
   "execution_count": 10,
   "id": "734178db-b5bf-4ce7-8969-9c89694b6959",
   "metadata": {},
   "outputs": [
    {
     "name": "stdout",
     "output_type": "stream",
     "text": [
      "LR r2_score :  0.3670103737004128\n"
     ]
    }
   ],
   "source": [
    "lr= LinearRegression()\n",
    "lr.fit(X_train,y_train)\n",
    "y_pred_lr = lr.predict(X_test)\n",
    "print(\"LR r2_score : \",r2_score(y_test,y_pred_lr))"
   ]
  },
  {
   "cell_type": "markdown",
   "id": "5477657b-5c6a-4d90-a552-9b5afaaec267",
   "metadata": {},
   "source": [
    "**Ridge Regression**"
   ]
  },
  {
   "cell_type": "code",
   "execution_count": 12,
   "id": "2f964c2f-ae48-4455-9bea-5f5879192f67",
   "metadata": {},
   "outputs": [
    {
     "name": "stdout",
     "output_type": "stream",
     "text": [
      "Ridge r2_score :  0.37915546090987384\n"
     ]
    }
   ],
   "source": [
    "rg= Ridge(alpha=0.1)\n",
    "rg.fit(X_train,y_train)\n",
    "y_pred_rg = rg.predict(X_test)\n",
    "print(\"Ridge r2_score : \",r2_score(y_test,y_pred_rg))"
   ]
  },
  {
   "cell_type": "markdown",
   "id": "2276eb2c-6d6e-4b3b-8f97-c9e7920537d1",
   "metadata": {},
   "source": [
    "**Lasso Regression**"
   ]
  },
  {
   "cell_type": "code",
   "execution_count": 22,
   "id": "264af87e-bf7c-4bdc-b045-f1531821720b",
   "metadata": {},
   "outputs": [
    {
     "name": "stdout",
     "output_type": "stream",
     "text": [
      "Lasso r2_score :  0.3609718708352563\n"
     ]
    }
   ],
   "source": [
    "ls= Lasso(alpha=0.01)\n",
    "ls.fit(X_train,y_train)\n",
    "y_pred_ls = ls.predict(X_test)\n",
    "print(\"Lasso r2_score : \",r2_score(y_test,y_pred_ls))"
   ]
  },
  {
   "cell_type": "markdown",
   "id": "1f18cf14-7e1a-4334-a2fb-690660090027",
   "metadata": {},
   "source": [
    "**ElasticNet Regression**"
   ]
  },
  {
   "cell_type": "code",
   "execution_count": 31,
   "id": "d5060f90-96de-49be-9150-1783d5614016",
   "metadata": {},
   "outputs": [
    {
     "name": "stdout",
     "output_type": "stream",
     "text": [
      "ENR r2_score :  0.3665405616742472\n"
     ]
    }
   ],
   "source": [
    "enr= ElasticNet(alpha=0.00001, l1_ratio=0.9)\n",
    "enr.fit(X_train,y_train)\n",
    "y_pred_enr = enr.predict(X_test)\n",
    "print(\"ENR r2_score : \",r2_score(y_test,y_pred_enr))"
   ]
  },
  {
   "cell_type": "code",
   "execution_count": null,
   "id": "50ce9031-c0f5-4793-a768-e13b4cc87781",
   "metadata": {},
   "outputs": [],
   "source": []
  }
 ],
 "metadata": {
  "kernelspec": {
   "display_name": "Python 3 (ipykernel)",
   "language": "python",
   "name": "python3"
  },
  "language_info": {
   "codemirror_mode": {
    "name": "ipython",
    "version": 3
   },
   "file_extension": ".py",
   "mimetype": "text/x-python",
   "name": "python",
   "nbconvert_exporter": "python",
   "pygments_lexer": "ipython3",
   "version": "3.12.4"
  }
 },
 "nbformat": 4,
 "nbformat_minor": 5
}
