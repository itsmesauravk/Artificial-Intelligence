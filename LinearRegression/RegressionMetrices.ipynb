{
 "cells": [
  {
   "cell_type": "code",
   "execution_count": 1,
   "id": "d95f5379-623a-436a-97dd-f8553cd3a579",
   "metadata": {},
   "outputs": [],
   "source": [
    "import pandas as pd\n",
    "import numpy as np\n",
    "import matplotlib.pyplot as plt\n"
   ]
  },
  {
   "cell_type": "code",
   "execution_count": 4,
   "id": "cd82a2f6-de81-410e-be0a-18f1dc75f573",
   "metadata": {},
   "outputs": [],
   "source": [
    "from sklearn.linear_model import LinearRegression\n",
    "from sklearn.model_selection import train_test_split"
   ]
  },
  {
   "cell_type": "code",
   "execution_count": 5,
   "id": "670f0dc1-2bba-45db-9a2f-f055ce0d07e9",
   "metadata": {},
   "outputs": [],
   "source": [
    "df = pd.read_csv('train.csv')"
   ]
  },
  {
   "cell_type": "code",
   "execution_count": 7,
   "id": "ccabbb98-c2cb-4587-9cda-c5da133d14a2",
   "metadata": {},
   "outputs": [
    {
     "data": {
      "text/html": [
       "<div>\n",
       "<style scoped>\n",
       "    .dataframe tbody tr th:only-of-type {\n",
       "        vertical-align: middle;\n",
       "    }\n",
       "\n",
       "    .dataframe tbody tr th {\n",
       "        vertical-align: top;\n",
       "    }\n",
       "\n",
       "    .dataframe thead th {\n",
       "        text-align: right;\n",
       "    }\n",
       "</style>\n",
       "<table border=\"1\" class=\"dataframe\">\n",
       "  <thead>\n",
       "    <tr style=\"text-align: right;\">\n",
       "      <th></th>\n",
       "      <th>x</th>\n",
       "      <th>y</th>\n",
       "    </tr>\n",
       "  </thead>\n",
       "  <tbody>\n",
       "    <tr>\n",
       "      <th>0</th>\n",
       "      <td>24.0</td>\n",
       "      <td>21.549452</td>\n",
       "    </tr>\n",
       "    <tr>\n",
       "      <th>1</th>\n",
       "      <td>50.0</td>\n",
       "      <td>47.464463</td>\n",
       "    </tr>\n",
       "    <tr>\n",
       "      <th>2</th>\n",
       "      <td>15.0</td>\n",
       "      <td>17.218656</td>\n",
       "    </tr>\n",
       "    <tr>\n",
       "      <th>3</th>\n",
       "      <td>38.0</td>\n",
       "      <td>36.586398</td>\n",
       "    </tr>\n",
       "    <tr>\n",
       "      <th>4</th>\n",
       "      <td>87.0</td>\n",
       "      <td>87.288984</td>\n",
       "    </tr>\n",
       "  </tbody>\n",
       "</table>\n",
       "</div>"
      ],
      "text/plain": [
       "      x          y\n",
       "0  24.0  21.549452\n",
       "1  50.0  47.464463\n",
       "2  15.0  17.218656\n",
       "3  38.0  36.586398\n",
       "4  87.0  87.288984"
      ]
     },
     "execution_count": 7,
     "metadata": {},
     "output_type": "execute_result"
    }
   ],
   "source": [
    "df.head()"
   ]
  },
  {
   "cell_type": "code",
   "execution_count": 100,
   "id": "4f162aae-72c4-4bb0-84bc-0a15014a22a0",
   "metadata": {},
   "outputs": [],
   "source": [
    "X = df[['x']]\n",
    "y = df['y']\n"
   ]
  },
  {
   "cell_type": "code",
   "execution_count": 101,
   "id": "9f1837f0-b022-420f-bd83-769b72ff65eb",
   "metadata": {},
   "outputs": [
    {
     "name": "stdout",
     "output_type": "stream",
     "text": [
      "Shape of X_train: (560, 1)\n",
      "Shape of y_train: (560,)\n"
     ]
    }
   ],
   "source": [
    "X_train,X_test,y_train,y_test = train_test_split(X,y, test_size = 0.2 , random_state = 42)\n",
    "print(\"Shape of X_train:\", X_train.shape)\n",
    "print(\"Shape of y_train:\", y_train.shape)\n"
   ]
  },
  {
   "cell_type": "code",
   "execution_count": 104,
   "id": "92e619b1-4ba6-4b3f-85c1-a808a7807780",
   "metadata": {},
   "outputs": [
    {
     "name": "stdout",
     "output_type": "stream",
     "text": [
      "NaN values in X_train: 0\n",
      "NaN values in y_train: 1\n",
      "Infinite values in X_train: x    0\n",
      "dtype: int64\n",
      "Infinite values in y_train: 0\n"
     ]
    }
   ],
   "source": [
    "print(\"NaN values in X_train:\", X_train.isnull().sum().sum())\n",
    "print(\"NaN values in y_train:\", y_train.isnull().sum().sum())\n",
    "\n",
    "print(\"Infinite values in X_train:\", np.isinf(X_train).sum())\n",
    "print(\"Infinite values in y_train:\", np.isinf(y_train).sum())\n"
   ]
  },
  {
   "cell_type": "code",
   "execution_count": 106,
   "id": "513a28d6-1bdc-4ce8-b186-036f365bb57c",
   "metadata": {},
   "outputs": [
    {
     "name": "stdout",
     "output_type": "stream",
     "text": [
      "Shape of X_train after NaN removal: (559, 1)\n",
      "Shape of y_train after NaN removal: (559,)\n"
     ]
    }
   ],
   "source": [
    "# Remove rows with NaN values in y_train\n",
    "X_train = X_train[~y_train.isna()]\n",
    "y_train = y_train.dropna()\n",
    "\n",
    "# Checking the shapes after removal\n",
    "print(\"Shape of X_train after NaN removal:\", X_train.shape)\n",
    "print(\"Shape of y_train after NaN removal:\", y_train.shape)\n",
    "\n",
    "\n"
   ]
  },
  {
   "cell_type": "code",
   "execution_count": 107,
   "id": "172d4a7b-bbaa-4621-86ea-f9200563c140",
   "metadata": {},
   "outputs": [
    {
     "name": "stdout",
     "output_type": "stream",
     "text": [
      "Model Trained\n"
     ]
    }
   ],
   "source": [
    "# Create and train the model\n",
    "lr = LinearRegression()\n",
    "lr.fit(X_train, y_train)\n",
    "\n",
    "print(\"Model Trained\")"
   ]
  },
  {
   "cell_type": "code",
   "execution_count": 108,
   "id": "9a6ec2be-74a3-429c-a9fc-1189af237d2d",
   "metadata": {},
   "outputs": [
    {
     "name": "stdout",
     "output_type": "stream",
     "text": [
      "Value of m :\n"
     ]
    },
    {
     "data": {
      "text/plain": [
       "array([1.0007299])"
      ]
     },
     "execution_count": 108,
     "metadata": {},
     "output_type": "execute_result"
    }
   ],
   "source": [
    "# y = mx + b\n",
    "print(\"Value of m :\")\n",
    "lr.coef_"
   ]
  },
  {
   "cell_type": "code",
   "execution_count": 109,
   "id": "25ebc660-2eb9-4b0e-acfa-75d21aadf24b",
   "metadata": {},
   "outputs": [
    {
     "name": "stdout",
     "output_type": "stream",
     "text": [
      "Value of b :\n"
     ]
    },
    {
     "data": {
      "text/plain": [
       "-0.12313987709135432"
      ]
     },
     "execution_count": 109,
     "metadata": {},
     "output_type": "execute_result"
    }
   ],
   "source": [
    "# y = mx + b\n",
    "print(\"Value of b :\")\n",
    "lr.intercept_"
   ]
  },
  {
   "cell_type": "code",
   "execution_count": 110,
   "id": "7a8700d6-a0c0-423d-aa1b-4652394be202",
   "metadata": {},
   "outputs": [],
   "source": [
    "from sklearn.metrics import mean_absolute_error, mean_squared_error, r2_score"
   ]
  },
  {
   "cell_type": "code",
   "execution_count": 123,
   "id": "bb11b487-d014-4274-835f-05a8aba45734",
   "metadata": {},
   "outputs": [],
   "source": [
    "y_pred = lr.predict(X_test)\n",
    "\n"
   ]
  },
  {
   "cell_type": "code",
   "execution_count": 124,
   "id": "4b9463fe-b03e-4e91-9245-4cd253c557a0",
   "metadata": {},
   "outputs": [
    {
     "name": "stdout",
     "output_type": "stream",
     "text": [
      "Mean Absoulte Error\n"
     ]
    },
    {
     "data": {
      "text/plain": [
       "2.2637854093810867"
      ]
     },
     "execution_count": 124,
     "metadata": {},
     "output_type": "execute_result"
    }
   ],
   "source": [
    "print(\"Mean Absoulte Error\")\n",
    "mean_absolute_error(y_test,y_pred)"
   ]
  },
  {
   "cell_type": "code",
   "execution_count": 127,
   "id": "4eb7a342-7320-45dc-b9fa-93c3e97c8993",
   "metadata": {},
   "outputs": [
    {
     "name": "stdout",
     "output_type": "stream",
     "text": [
      "Mean Square Error\n"
     ]
    },
    {
     "data": {
      "text/plain": [
       "8.002750146042327"
      ]
     },
     "execution_count": 127,
     "metadata": {},
     "output_type": "execute_result"
    }
   ],
   "source": [
    "print(\"Mean Square Error\")\n",
    "mean_squared_error(y_test,y_pred)"
   ]
  },
  {
   "cell_type": "code",
   "execution_count": 129,
   "id": "c5c56860-7fbf-4662-bf37-ceedb9031a57",
   "metadata": {},
   "outputs": [
    {
     "name": "stdout",
     "output_type": "stream",
     "text": [
      "Root Mean Square Error\n"
     ]
    },
    {
     "data": {
      "text/plain": [
       "2.8289132447005736"
      ]
     },
     "execution_count": 129,
     "metadata": {},
     "output_type": "execute_result"
    }
   ],
   "source": [
    "print(\"Root Mean Square Error\")\n",
    "np.sqrt(mean_squared_error(y_test,y_pred))"
   ]
  },
  {
   "cell_type": "code",
   "execution_count": 132,
   "id": "d3693a03-7b18-4274-a267-336aaf002d13",
   "metadata": {},
   "outputs": [
    {
     "name": "stdout",
     "output_type": "stream",
     "text": [
      "R2 score\n"
     ]
    },
    {
     "data": {
      "text/plain": [
       "0.9915274167944004"
      ]
     },
     "execution_count": 132,
     "metadata": {},
     "output_type": "execute_result"
    }
   ],
   "source": [
    "print(\"R2 score\")\n",
    "r2 = r2_score(y_test,y_pred)\n",
    "r2"
   ]
  },
  {
   "cell_type": "code",
   "execution_count": 135,
   "id": "7d58d1eb-5a44-4d5a-96c8-b3ad28e4920a",
   "metadata": {},
   "outputs": [
    {
     "data": {
      "text/plain": [
       "(140, 1)"
      ]
     },
     "execution_count": 135,
     "metadata": {},
     "output_type": "execute_result"
    }
   ],
   "source": [
    "\n",
    "X_test.shape"
   ]
  },
  {
   "cell_type": "code",
   "execution_count": 136,
   "id": "10478734-266f-4d5f-95b8-76ede8e36d3b",
   "metadata": {},
   "outputs": [
    {
     "name": "stdout",
     "output_type": "stream",
     "text": [
      "Adjusted R2 score\n"
     ]
    },
    {
     "data": {
      "text/plain": [
       "0.991466021263925"
      ]
     },
     "execution_count": 136,
     "metadata": {},
     "output_type": "execute_result"
    }
   ],
   "source": [
    "print(\"Adjusted R2 score\")\n",
    "n = 140  #number total rows\n",
    "k = 1  # number of total colums\n",
    "1-(((1-r2)*(n-1))/(n-1-k))"
   ]
  },
  {
   "cell_type": "code",
   "execution_count": null,
   "id": "5526380f-d97c-4ff9-bab9-0a51132a7cc9",
   "metadata": {},
   "outputs": [],
   "source": []
  }
 ],
 "metadata": {
  "kernelspec": {
   "display_name": "Python 3 (ipykernel)",
   "language": "python",
   "name": "python3"
  },
  "language_info": {
   "codemirror_mode": {
    "name": "ipython",
    "version": 3
   },
   "file_extension": ".py",
   "mimetype": "text/x-python",
   "name": "python",
   "nbconvert_exporter": "python",
   "pygments_lexer": "ipython3",
   "version": "3.12.4"
  }
 },
 "nbformat": 4,
 "nbformat_minor": 5
}
