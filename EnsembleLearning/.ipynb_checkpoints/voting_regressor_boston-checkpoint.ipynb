{
 "cells": [
  {
   "cell_type": "code",
   "execution_count": 16,
   "id": "24bf5f2b-ab8c-4f5c-90ff-fbb0a600b0a3",
   "metadata": {},
   "outputs": [],
   "source": [
    "from sklearn.datasets import load_diabetes\n",
    "import numpy as np"
   ]
  },
  {
   "cell_type": "code",
   "execution_count": 4,
   "id": "29db0211-1238-4705-b928-4de20da9d8f6",
   "metadata": {},
   "outputs": [],
   "source": [
    "X,y = load_diabetes(return_X_y = True)"
   ]
  },
  {
   "cell_type": "code",
   "execution_count": 7,
   "id": "946d8507-33c5-4e4f-b332-b36a572b55ce",
   "metadata": {},
   "outputs": [
    {
     "data": {
      "text/plain": [
       "(442, 10)"
      ]
     },
     "execution_count": 7,
     "metadata": {},
     "output_type": "execute_result"
    }
   ],
   "source": [
    "X.shape"
   ]
  },
  {
   "cell_type": "code",
   "execution_count": 8,
   "id": "2f32038a-e873-419a-be55-caaaa2395464",
   "metadata": {},
   "outputs": [
    {
     "data": {
      "text/plain": [
       "(442,)"
      ]
     },
     "execution_count": 8,
     "metadata": {},
     "output_type": "execute_result"
    }
   ],
   "source": [
    "y.shape"
   ]
  },
  {
   "cell_type": "code",
   "execution_count": 9,
   "id": "dc994dc6-a172-49cc-957d-bf1585928ce6",
   "metadata": {},
   "outputs": [
    {
     "data": {
      "text/plain": [
       "array([[ 0.03807591,  0.05068012,  0.06169621, ..., -0.00259226,\n",
       "         0.01990749, -0.01764613],\n",
       "       [-0.00188202, -0.04464164, -0.05147406, ..., -0.03949338,\n",
       "        -0.06833155, -0.09220405],\n",
       "       [ 0.08529891,  0.05068012,  0.04445121, ..., -0.00259226,\n",
       "         0.00286131, -0.02593034],\n",
       "       ...,\n",
       "       [ 0.04170844,  0.05068012, -0.01590626, ..., -0.01107952,\n",
       "        -0.04688253,  0.01549073],\n",
       "       [-0.04547248, -0.04464164,  0.03906215, ...,  0.02655962,\n",
       "         0.04452873, -0.02593034],\n",
       "       [-0.04547248, -0.04464164, -0.0730303 , ..., -0.03949338,\n",
       "        -0.00422151,  0.00306441]])"
      ]
     },
     "execution_count": 9,
     "metadata": {},
     "output_type": "execute_result"
    }
   ],
   "source": [
    "X"
   ]
  },
  {
   "cell_type": "code",
   "execution_count": 11,
   "id": "c217f091-e29b-4870-963a-56369a30c51f",
   "metadata": {},
   "outputs": [],
   "source": [
    "from sklearn.linear_model import LinearRegression\n",
    "from sklearn.tree import DecisionTreeRegressor\n",
    "from sklearn.svm import SVR"
   ]
  },
  {
   "cell_type": "code",
   "execution_count": 13,
   "id": "665fa51b-b6a8-4e8b-ba55-05f0a0daf5b7",
   "metadata": {},
   "outputs": [],
   "source": [
    "from sklearn.model_selection import cross_val_score"
   ]
  },
  {
   "cell_type": "code",
   "execution_count": 14,
   "id": "a88bf1fb-5b7e-453e-8a9c-3d767254a3e0",
   "metadata": {},
   "outputs": [],
   "source": [
    "lr = LinearRegression()\n",
    "dt = DecisionTreeRegressor()\n",
    "sv = SVR()"
   ]
  },
  {
   "cell_type": "code",
   "execution_count": 15,
   "id": "0f10beb3-bf19-41e7-b1cc-24cdb64d9917",
   "metadata": {},
   "outputs": [],
   "source": [
    "estimators = [('lr', lr), ('dt',dt),('sv',sv)]"
   ]
  },
  {
   "cell_type": "code",
   "execution_count": 17,
   "id": "57f9b207-c5ec-4219-a0c3-8b9eff9e11d7",
   "metadata": {},
   "outputs": [
    {
     "name": "stdout",
     "output_type": "stream",
     "text": [
      "lr 0.46\n",
      "dt -0.3\n",
      "sv 0.15\n"
     ]
    }
   ],
   "source": [
    "#normal prediction for each\n",
    "for estimator in estimators:\n",
    "    scores = cross_val_score(estimator[1],X,y,scoring='r2', cv=10)\n",
    "    print(estimator[0], np.round(np.mean(scores),2))"
   ]
  },
  {
   "cell_type": "code",
   "execution_count": 18,
   "id": "35751409-829e-47fc-9aac-82af2fcfb2a5",
   "metadata": {},
   "outputs": [],
   "source": [
    "from sklearn.ensemble import VotingRegressor"
   ]
  },
  {
   "cell_type": "code",
   "execution_count": 19,
   "id": "4f647e19-dd23-4a2f-bca1-e9e7d2fb0235",
   "metadata": {},
   "outputs": [
    {
     "name": "stdout",
     "output_type": "stream",
     "text": [
      "Voting Regressor 0.34\n"
     ]
    }
   ],
   "source": [
    "vr = VotingRegressor(estimators)\n",
    "scores = cross_val_score(vr,X,y,scoring='r2', cv=10)\n",
    "print(\"Voting Regressor\", np.round(np.mean(scores),2))"
   ]
  },
  {
   "cell_type": "code",
   "execution_count": 26,
   "id": "25ee429a-616a-4545-b475-181d6d0cb007",
   "metadata": {},
   "outputs": [
    {
     "name": "stdout",
     "output_type": "stream",
     "text": [
      "Voting Regressor with weights i:1, j:1, k:1 -> R2 score: 0.34\n",
      "Voting Regressor with weights i:1, j:1, k:2 -> R2 score: 0.34\n",
      "Voting Regressor with weights i:1, j:1, k:3 -> R2 score: 0.31\n",
      "Voting Regressor with weights i:1, j:2, k:1 -> R2 score: 0.27\n",
      "Voting Regressor with weights i:1, j:2, k:2 -> R2 score: 0.31\n",
      "Voting Regressor with weights i:1, j:2, k:3 -> R2 score: 0.29\n",
      "Voting Regressor with weights i:1, j:3, k:1 -> R2 score: 0.17\n",
      "Voting Regressor with weights i:1, j:3, k:2 -> R2 score: 0.25\n",
      "Voting Regressor with weights i:1, j:3, k:3 -> R2 score: 0.27\n",
      "Voting Regressor with weights i:2, j:1, k:1 -> R2 score: 0.4\n",
      "Voting Regressor with weights i:2, j:1, k:2 -> R2 score: 0.39\n",
      "Voting Regressor with weights i:2, j:1, k:3 -> R2 score: 0.37\n",
      "Voting Regressor with weights i:2, j:2, k:1 -> R2 score: 0.33\n",
      "Voting Regressor with weights i:2, j:2, k:2 -> R2 score: 0.34\n",
      "Voting Regressor with weights i:2, j:2, k:3 -> R2 score: 0.34\n",
      "Voting Regressor with weights i:2, j:3, k:1 -> R2 score: 0.26\n",
      "Voting Regressor with weights i:2, j:3, k:2 -> R2 score: 0.3\n",
      "Voting Regressor with weights i:2, j:3, k:3 -> R2 score: 0.31\n",
      "Voting Regressor with weights i:3, j:1, k:1 -> R2 score: 0.42\n",
      "Voting Regressor with weights i:3, j:1, k:2 -> R2 score: 0.41\n",
      "Voting Regressor with weights i:3, j:1, k:3 -> R2 score: 0.4\n",
      "Voting Regressor with weights i:3, j:2, k:1 -> R2 score: 0.37\n",
      "Voting Regressor with weights i:3, j:2, k:2 -> R2 score: 0.38\n",
      "Voting Regressor with weights i:3, j:2, k:3 -> R2 score: 0.37\n",
      "Voting Regressor with weights i:3, j:3, k:1 -> R2 score: 0.32\n",
      "Voting Regressor with weights i:3, j:3, k:2 -> R2 score: 0.34\n",
      "Voting Regressor with weights i:3, j:3, k:3 -> R2 score: 0.34\n",
      "Highest R2 score is 0.4204741121650528 with weights i:3, j:1, k:1.\n"
     ]
    }
   ],
   "source": [
    "\n",
    "# Assuming `estimators` is a list of models you have already defined\n",
    "high_acc = -np.inf  # Initializing to a very low value\n",
    "i_m = 0\n",
    "j_m = 0\n",
    "k_m = 0\n",
    "\n",
    "# Iterate through different weight combinations for 3 models\n",
    "for i in range(1, 4):  # Starting from 1 to avoid zero weights\n",
    "    for j in range(1, 4):\n",
    "        for k in range(1, 4):\n",
    "            vr = VotingRegressor(estimators, weights=[i, j, k])\n",
    "            scores = cross_val_score(vr, X, y, scoring='r2', cv=10)\n",
    "            mean_score = np.mean(scores)\n",
    "            print(f\"Voting Regressor with weights i:{i}, j:{j}, k:{k} -> R2 score:\", np.round(mean_score, 2))\n",
    "            \n",
    "            # Compare the mean score to find the highest accuracy\n",
    "            if mean_score > high_acc:\n",
    "                high_acc = mean_score\n",
    "                i_m = i\n",
    "                j_m = j\n",
    "                k_m = k\n",
    "\n",
    "# Print the best combination of weights and the highest accuracy\n",
    "print(f\"Highest R2 score is {high_acc} with weights i:{i_m}, j:{j_m}, k:{k_m}.\")\n"
   ]
  },
  {
   "cell_type": "code",
   "execution_count": 27,
   "id": "95f9459b-2f6b-49d3-bc56-a455249976ba",
   "metadata": {},
   "outputs": [],
   "source": [
    "#using same modle\n",
    "dt1 = DecisionTreeRegressor(max_depth=1)\n",
    "dt2 = DecisionTreeRegressor(max_depth=3)\n",
    "dt3 = DecisionTreeRegressor(max_depth=5)\n",
    "dt4 = DecisionTreeRegressor(max_depth=7)\n",
    "dt5 = DecisionTreeRegressor(max_depth=None)\n"
   ]
  },
  {
   "cell_type": "code",
   "execution_count": 28,
   "id": "4b8ac543-2d23-4d12-b2ef-f80cc0226ddd",
   "metadata": {},
   "outputs": [],
   "source": [
    "dt_estimators = [('dt1',dt1),('dt2',dt2),('dt3',dt3),('dt4',dt4),('dt5',dt5)]\n"
   ]
  },
  {
   "cell_type": "code",
   "execution_count": 29,
   "id": "5f33ede6-4c90-4a64-bff3-0d35f99e1234",
   "metadata": {},
   "outputs": [
    {
     "name": "stdout",
     "output_type": "stream",
     "text": [
      "dt1 0.15\n",
      "dt2 0.29\n",
      "dt3 0.16\n",
      "dt4 -0.04\n",
      "dt5 -0.28\n"
     ]
    }
   ],
   "source": [
    "for estimator in dt_estimators:\n",
    "    scores = cross_val_score(estimator[1],X,y,scoring='r2', cv=10)\n",
    "    print(estimator[0], np.round(np.mean(scores),2))"
   ]
  },
  {
   "cell_type": "code",
   "execution_count": 30,
   "id": "8d777ada-7173-4453-a2c6-e7b1e5b5f2dc",
   "metadata": {},
   "outputs": [
    {
     "name": "stdout",
     "output_type": "stream",
     "text": [
      "Voting Regressor 0.22\n"
     ]
    }
   ],
   "source": [
    "vr = VotingRegressor(dt_estimators)\n",
    "scores = cross_val_score(vr,X,y,scoring='r2', cv=10)\n",
    "print(\"Voting Regressor\", np.round(np.mean(scores),2))"
   ]
  },
  {
   "cell_type": "code",
   "execution_count": null,
   "id": "51f23764-0c2d-4777-9b01-fac257bffc96",
   "metadata": {},
   "outputs": [],
   "source": []
  }
 ],
 "metadata": {
  "kernelspec": {
   "display_name": "Python 3 (ipykernel)",
   "language": "python",
   "name": "python3"
  },
  "language_info": {
   "codemirror_mode": {
    "name": "ipython",
    "version": 3
   },
   "file_extension": ".py",
   "mimetype": "text/x-python",
   "name": "python",
   "nbconvert_exporter": "python",
   "pygments_lexer": "ipython3",
   "version": "3.12.4"
  }
 },
 "nbformat": 4,
 "nbformat_minor": 5
}
