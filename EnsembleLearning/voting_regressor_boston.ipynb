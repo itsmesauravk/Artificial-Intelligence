{
 "cells": [
  {
   "cell_type": "code",
   "execution_count": 16,
   "id": "24bf5f2b-ab8c-4f5c-90ff-fbb0a600b0a3",
   "metadata": {},
   "outputs": [],
   "source": [
    "from sklearn.datasets import load_diabetes\n",
    "import numpy as np"
   ]
  },
  {
   "cell_type": "code",
   "execution_count": 4,
   "id": "29db0211-1238-4705-b928-4de20da9d8f6",
   "metadata": {},
   "outputs": [],
   "source": [
    "X,y = load_diabetes(return_X_y = True)"
   ]
  },
  {
   "cell_type": "code",
   "execution_count": 7,
   "id": "946d8507-33c5-4e4f-b332-b36a572b55ce",
   "metadata": {},
   "outputs": [
    {
     "data": {
      "text/plain": [
       "(442, 10)"
      ]
     },
     "execution_count": 7,
     "metadata": {},
     "output_type": "execute_result"
    }
   ],
   "source": [
    "X.shape"
   ]
  },
  {
   "cell_type": "code",
   "execution_count": 8,
   "id": "2f32038a-e873-419a-be55-caaaa2395464",
   "metadata": {},
   "outputs": [
    {
     "data": {
      "text/plain": [
       "(442,)"
      ]
     },
     "execution_count": 8,
     "metadata": {},
     "output_type": "execute_result"
    }
   ],
   "source": [
    "y.shape"
   ]
  },
  {
   "cell_type": "code",
   "execution_count": 9,
   "id": "dc994dc6-a172-49cc-957d-bf1585928ce6",
   "metadata": {},
   "outputs": [
    {
     "data": {
      "text/plain": [
       "array([[ 0.03807591,  0.05068012,  0.06169621, ..., -0.00259226,\n",
       "         0.01990749, -0.01764613],\n",
       "       [-0.00188202, -0.04464164, -0.05147406, ..., -0.03949338,\n",
       "        -0.06833155, -0.09220405],\n",
       "       [ 0.08529891,  0.05068012,  0.04445121, ..., -0.00259226,\n",
       "         0.00286131, -0.02593034],\n",
       "       ...,\n",
       "       [ 0.04170844,  0.05068012, -0.01590626, ..., -0.01107952,\n",
       "        -0.04688253,  0.01549073],\n",
       "       [-0.04547248, -0.04464164,  0.03906215, ...,  0.02655962,\n",
       "         0.04452873, -0.02593034],\n",
       "       [-0.04547248, -0.04464164, -0.0730303 , ..., -0.03949338,\n",
       "        -0.00422151,  0.00306441]])"
      ]
     },
     "execution_count": 9,
     "metadata": {},
     "output_type": "execute_result"
    }
   ],
   "source": [
    "X"
   ]
  },
  {
   "cell_type": "code",
   "execution_count": 11,
   "id": "c217f091-e29b-4870-963a-56369a30c51f",
   "metadata": {},
   "outputs": [],
   "source": [
    "from sklearn.linear_model import LinearRegression\n",
    "from sklearn.tree import DecisionTreeRegressor\n",
    "from sklearn.svm import SVR"
   ]
  },
  {
   "cell_type": "code",
   "execution_count": 13,
   "id": "665fa51b-b6a8-4e8b-ba55-05f0a0daf5b7",
   "metadata": {},
   "outputs": [],
   "source": [
    "from sklearn.model_selection import cross_val_score"
   ]
  },
  {
   "cell_type": "code",
   "execution_count": 14,
   "id": "a88bf1fb-5b7e-453e-8a9c-3d767254a3e0",
   "metadata": {},
   "outputs": [],
   "source": [
    "lr = LinearRegression()\n",
    "dt = DecisionTreeRegressor()\n",
    "sv = SVR()"
   ]
  },
  {
   "cell_type": "code",
   "execution_count": 15,
   "id": "0f10beb3-bf19-41e7-b1cc-24cdb64d9917",
   "metadata": {},
   "outputs": [],
   "source": [
    "estimators = [('lr', lr), ('dt',dt),('sv',sv)]"
   ]
  },
  {
   "cell_type": "code",
   "execution_count": 17,
   "id": "57f9b207-c5ec-4219-a0c3-8b9eff9e11d7",
   "metadata": {},
   "outputs": [
    {
     "name": "stdout",
     "output_type": "stream",
     "text": [
      "lr 0.46\n",
      "dt -0.3\n",
      "sv 0.15\n"
     ]
    }
   ],
   "source": [
    "#normal prediction for each\n",
    "for estimator in estimators:\n",
    "    scores = cross_val_score(estimator[1],X,y,scoring='r2', cv=10)\n",
    "    print(estimator[0], np.round(np.mean(scores),2))"
   ]
  },
  {
   "cell_type": "code",
   "execution_count": 18,
   "id": "35751409-829e-47fc-9aac-82af2fcfb2a5",
   "metadata": {},
   "outputs": [],
   "source": [
    "from sklearn.ensemble import VotingRegressor"
   ]
  },
  {
   "cell_type": "code",
   "execution_count": 19,
   "id": "4f647e19-dd23-4a2f-bca1-e9e7d2fb0235",
   "metadata": {},
   "outputs": [
    {
     "name": "stdout",
     "output_type": "stream",
     "text": [
      "Voting Regressor 0.34\n"
     ]
    }
   ],
   "source": [
    "vr = VotingRegressor(estimators)\n",
    "scores = cross_val_score(vr,X,y,scoring='r2', cv=10)\n",
    "print(\"Voting Regressor\", np.round(np.mean(scores),2))"
   ]
  },
  {
   "cell_type": "code",
   "execution_count": 25,
   "id": "25ee429a-616a-4545-b475-181d6d0cb007",
   "metadata": {},
   "outputs": [
    {
     "name": "stderr",
     "output_type": "stream",
     "text": [
      "D:\\Applications\\Python\\Lib\\site-packages\\sklearn\\model_selection\\_validation.py:1000: UserWarning: Scoring failed. The score on this train-test partition for these parameters will be set to nan. Details: \n",
      "Traceback (most recent call last):\n",
      "  File \"D:\\Applications\\Python\\Lib\\site-packages\\sklearn\\metrics\\_scorer.py\", line 139, in __call__\n",
      "    score = scorer._score(\n",
      "            ^^^^^^^^^^^^^^\n",
      "  File \"D:\\Applications\\Python\\Lib\\site-packages\\sklearn\\metrics\\_scorer.py\", line 371, in _score\n",
      "    y_pred = method_caller(\n",
      "             ^^^^^^^^^^^^^^\n",
      "  File \"D:\\Applications\\Python\\Lib\\site-packages\\sklearn\\metrics\\_scorer.py\", line 89, in _cached_call\n",
      "    result, _ = _get_response_values(\n",
      "                ^^^^^^^^^^^^^^^^^^^^^\n",
      "  File \"D:\\Applications\\Python\\Lib\\site-packages\\sklearn\\utils\\_response.py\", line 239, in _get_response_values\n",
      "    y_pred, pos_label = prediction_method(X), None\n",
      "                        ^^^^^^^^^^^^^^^^^^^^\n",
      "  File \"D:\\Applications\\Python\\Lib\\site-packages\\sklearn\\ensemble\\_voting.py\", line 716, in predict\n",
      "    return np.average(self._predict(X), axis=1, weights=self._weights_not_none)\n",
      "           ^^^^^^^^^^^^^^^^^^^^^^^^^^^^^^^^^^^^^^^^^^^^^^^^^^^^^^^^^^^^^^^^^^^^\n",
      "  File \"D:\\Applications\\Python\\Lib\\site-packages\\numpy\\lib\\function_base.py\", line 550, in average\n",
      "    raise ZeroDivisionError(\n",
      "ZeroDivisionError: Weights sum to zero, can't be normalized\n",
      "\n",
      "  warnings.warn(\n",
      "D:\\Applications\\Python\\Lib\\site-packages\\sklearn\\model_selection\\_validation.py:1000: UserWarning: Scoring failed. The score on this train-test partition for these parameters will be set to nan. Details: \n",
      "Traceback (most recent call last):\n",
      "  File \"D:\\Applications\\Python\\Lib\\site-packages\\sklearn\\metrics\\_scorer.py\", line 139, in __call__\n",
      "    score = scorer._score(\n",
      "            ^^^^^^^^^^^^^^\n",
      "  File \"D:\\Applications\\Python\\Lib\\site-packages\\sklearn\\metrics\\_scorer.py\", line 371, in _score\n",
      "    y_pred = method_caller(\n",
      "             ^^^^^^^^^^^^^^\n",
      "  File \"D:\\Applications\\Python\\Lib\\site-packages\\sklearn\\metrics\\_scorer.py\", line 89, in _cached_call\n",
      "    result, _ = _get_response_values(\n",
      "                ^^^^^^^^^^^^^^^^^^^^^\n",
      "  File \"D:\\Applications\\Python\\Lib\\site-packages\\sklearn\\utils\\_response.py\", line 239, in _get_response_values\n",
      "    y_pred, pos_label = prediction_method(X), None\n",
      "                        ^^^^^^^^^^^^^^^^^^^^\n",
      "  File \"D:\\Applications\\Python\\Lib\\site-packages\\sklearn\\ensemble\\_voting.py\", line 716, in predict\n",
      "    return np.average(self._predict(X), axis=1, weights=self._weights_not_none)\n",
      "           ^^^^^^^^^^^^^^^^^^^^^^^^^^^^^^^^^^^^^^^^^^^^^^^^^^^^^^^^^^^^^^^^^^^^\n",
      "  File \"D:\\Applications\\Python\\Lib\\site-packages\\numpy\\lib\\function_base.py\", line 550, in average\n",
      "    raise ZeroDivisionError(\n",
      "ZeroDivisionError: Weights sum to zero, can't be normalized\n",
      "\n",
      "  warnings.warn(\n",
      "D:\\Applications\\Python\\Lib\\site-packages\\sklearn\\model_selection\\_validation.py:1000: UserWarning: Scoring failed. The score on this train-test partition for these parameters will be set to nan. Details: \n",
      "Traceback (most recent call last):\n",
      "  File \"D:\\Applications\\Python\\Lib\\site-packages\\sklearn\\metrics\\_scorer.py\", line 139, in __call__\n",
      "    score = scorer._score(\n",
      "            ^^^^^^^^^^^^^^\n",
      "  File \"D:\\Applications\\Python\\Lib\\site-packages\\sklearn\\metrics\\_scorer.py\", line 371, in _score\n",
      "    y_pred = method_caller(\n",
      "             ^^^^^^^^^^^^^^\n",
      "  File \"D:\\Applications\\Python\\Lib\\site-packages\\sklearn\\metrics\\_scorer.py\", line 89, in _cached_call\n",
      "    result, _ = _get_response_values(\n",
      "                ^^^^^^^^^^^^^^^^^^^^^\n",
      "  File \"D:\\Applications\\Python\\Lib\\site-packages\\sklearn\\utils\\_response.py\", line 239, in _get_response_values\n",
      "    y_pred, pos_label = prediction_method(X), None\n",
      "                        ^^^^^^^^^^^^^^^^^^^^\n",
      "  File \"D:\\Applications\\Python\\Lib\\site-packages\\sklearn\\ensemble\\_voting.py\", line 716, in predict\n",
      "    return np.average(self._predict(X), axis=1, weights=self._weights_not_none)\n",
      "           ^^^^^^^^^^^^^^^^^^^^^^^^^^^^^^^^^^^^^^^^^^^^^^^^^^^^^^^^^^^^^^^^^^^^\n",
      "  File \"D:\\Applications\\Python\\Lib\\site-packages\\numpy\\lib\\function_base.py\", line 550, in average\n",
      "    raise ZeroDivisionError(\n",
      "ZeroDivisionError: Weights sum to zero, can't be normalized\n",
      "\n",
      "  warnings.warn(\n",
      "D:\\Applications\\Python\\Lib\\site-packages\\sklearn\\model_selection\\_validation.py:1000: UserWarning: Scoring failed. The score on this train-test partition for these parameters will be set to nan. Details: \n",
      "Traceback (most recent call last):\n",
      "  File \"D:\\Applications\\Python\\Lib\\site-packages\\sklearn\\metrics\\_scorer.py\", line 139, in __call__\n",
      "    score = scorer._score(\n",
      "            ^^^^^^^^^^^^^^\n",
      "  File \"D:\\Applications\\Python\\Lib\\site-packages\\sklearn\\metrics\\_scorer.py\", line 371, in _score\n",
      "    y_pred = method_caller(\n",
      "             ^^^^^^^^^^^^^^\n",
      "  File \"D:\\Applications\\Python\\Lib\\site-packages\\sklearn\\metrics\\_scorer.py\", line 89, in _cached_call\n",
      "    result, _ = _get_response_values(\n",
      "                ^^^^^^^^^^^^^^^^^^^^^\n",
      "  File \"D:\\Applications\\Python\\Lib\\site-packages\\sklearn\\utils\\_response.py\", line 239, in _get_response_values\n",
      "    y_pred, pos_label = prediction_method(X), None\n",
      "                        ^^^^^^^^^^^^^^^^^^^^\n",
      "  File \"D:\\Applications\\Python\\Lib\\site-packages\\sklearn\\ensemble\\_voting.py\", line 716, in predict\n",
      "    return np.average(self._predict(X), axis=1, weights=self._weights_not_none)\n",
      "           ^^^^^^^^^^^^^^^^^^^^^^^^^^^^^^^^^^^^^^^^^^^^^^^^^^^^^^^^^^^^^^^^^^^^\n",
      "  File \"D:\\Applications\\Python\\Lib\\site-packages\\numpy\\lib\\function_base.py\", line 550, in average\n",
      "    raise ZeroDivisionError(\n",
      "ZeroDivisionError: Weights sum to zero, can't be normalized\n",
      "\n",
      "  warnings.warn(\n",
      "D:\\Applications\\Python\\Lib\\site-packages\\sklearn\\model_selection\\_validation.py:1000: UserWarning: Scoring failed. The score on this train-test partition for these parameters will be set to nan. Details: \n",
      "Traceback (most recent call last):\n",
      "  File \"D:\\Applications\\Python\\Lib\\site-packages\\sklearn\\metrics\\_scorer.py\", line 139, in __call__\n",
      "    score = scorer._score(\n",
      "            ^^^^^^^^^^^^^^\n",
      "  File \"D:\\Applications\\Python\\Lib\\site-packages\\sklearn\\metrics\\_scorer.py\", line 371, in _score\n",
      "    y_pred = method_caller(\n",
      "             ^^^^^^^^^^^^^^\n",
      "  File \"D:\\Applications\\Python\\Lib\\site-packages\\sklearn\\metrics\\_scorer.py\", line 89, in _cached_call\n",
      "    result, _ = _get_response_values(\n",
      "                ^^^^^^^^^^^^^^^^^^^^^\n",
      "  File \"D:\\Applications\\Python\\Lib\\site-packages\\sklearn\\utils\\_response.py\", line 239, in _get_response_values\n",
      "    y_pred, pos_label = prediction_method(X), None\n",
      "                        ^^^^^^^^^^^^^^^^^^^^\n",
      "  File \"D:\\Applications\\Python\\Lib\\site-packages\\sklearn\\ensemble\\_voting.py\", line 716, in predict\n",
      "    return np.average(self._predict(X), axis=1, weights=self._weights_not_none)\n",
      "           ^^^^^^^^^^^^^^^^^^^^^^^^^^^^^^^^^^^^^^^^^^^^^^^^^^^^^^^^^^^^^^^^^^^^\n",
      "  File \"D:\\Applications\\Python\\Lib\\site-packages\\numpy\\lib\\function_base.py\", line 550, in average\n",
      "    raise ZeroDivisionError(\n",
      "ZeroDivisionError: Weights sum to zero, can't be normalized\n",
      "\n",
      "  warnings.warn(\n",
      "D:\\Applications\\Python\\Lib\\site-packages\\sklearn\\model_selection\\_validation.py:1000: UserWarning: Scoring failed. The score on this train-test partition for these parameters will be set to nan. Details: \n",
      "Traceback (most recent call last):\n",
      "  File \"D:\\Applications\\Python\\Lib\\site-packages\\sklearn\\metrics\\_scorer.py\", line 139, in __call__\n",
      "    score = scorer._score(\n",
      "            ^^^^^^^^^^^^^^\n",
      "  File \"D:\\Applications\\Python\\Lib\\site-packages\\sklearn\\metrics\\_scorer.py\", line 371, in _score\n",
      "    y_pred = method_caller(\n",
      "             ^^^^^^^^^^^^^^\n",
      "  File \"D:\\Applications\\Python\\Lib\\site-packages\\sklearn\\metrics\\_scorer.py\", line 89, in _cached_call\n",
      "    result, _ = _get_response_values(\n",
      "                ^^^^^^^^^^^^^^^^^^^^^\n",
      "  File \"D:\\Applications\\Python\\Lib\\site-packages\\sklearn\\utils\\_response.py\", line 239, in _get_response_values\n",
      "    y_pred, pos_label = prediction_method(X), None\n",
      "                        ^^^^^^^^^^^^^^^^^^^^\n",
      "  File \"D:\\Applications\\Python\\Lib\\site-packages\\sklearn\\ensemble\\_voting.py\", line 716, in predict\n",
      "    return np.average(self._predict(X), axis=1, weights=self._weights_not_none)\n",
      "           ^^^^^^^^^^^^^^^^^^^^^^^^^^^^^^^^^^^^^^^^^^^^^^^^^^^^^^^^^^^^^^^^^^^^\n",
      "  File \"D:\\Applications\\Python\\Lib\\site-packages\\numpy\\lib\\function_base.py\", line 550, in average\n",
      "    raise ZeroDivisionError(\n",
      "ZeroDivisionError: Weights sum to zero, can't be normalized\n",
      "\n",
      "  warnings.warn(\n",
      "D:\\Applications\\Python\\Lib\\site-packages\\sklearn\\model_selection\\_validation.py:1000: UserWarning: Scoring failed. The score on this train-test partition for these parameters will be set to nan. Details: \n",
      "Traceback (most recent call last):\n",
      "  File \"D:\\Applications\\Python\\Lib\\site-packages\\sklearn\\metrics\\_scorer.py\", line 139, in __call__\n",
      "    score = scorer._score(\n",
      "            ^^^^^^^^^^^^^^\n",
      "  File \"D:\\Applications\\Python\\Lib\\site-packages\\sklearn\\metrics\\_scorer.py\", line 371, in _score\n",
      "    y_pred = method_caller(\n",
      "             ^^^^^^^^^^^^^^\n",
      "  File \"D:\\Applications\\Python\\Lib\\site-packages\\sklearn\\metrics\\_scorer.py\", line 89, in _cached_call\n",
      "    result, _ = _get_response_values(\n",
      "                ^^^^^^^^^^^^^^^^^^^^^\n",
      "  File \"D:\\Applications\\Python\\Lib\\site-packages\\sklearn\\utils\\_response.py\", line 239, in _get_response_values\n",
      "    y_pred, pos_label = prediction_method(X), None\n",
      "                        ^^^^^^^^^^^^^^^^^^^^\n",
      "  File \"D:\\Applications\\Python\\Lib\\site-packages\\sklearn\\ensemble\\_voting.py\", line 716, in predict\n",
      "    return np.average(self._predict(X), axis=1, weights=self._weights_not_none)\n",
      "           ^^^^^^^^^^^^^^^^^^^^^^^^^^^^^^^^^^^^^^^^^^^^^^^^^^^^^^^^^^^^^^^^^^^^\n",
      "  File \"D:\\Applications\\Python\\Lib\\site-packages\\numpy\\lib\\function_base.py\", line 550, in average\n",
      "    raise ZeroDivisionError(\n",
      "ZeroDivisionError: Weights sum to zero, can't be normalized\n",
      "\n",
      "  warnings.warn(\n",
      "D:\\Applications\\Python\\Lib\\site-packages\\sklearn\\model_selection\\_validation.py:1000: UserWarning: Scoring failed. The score on this train-test partition for these parameters will be set to nan. Details: \n",
      "Traceback (most recent call last):\n",
      "  File \"D:\\Applications\\Python\\Lib\\site-packages\\sklearn\\metrics\\_scorer.py\", line 139, in __call__\n",
      "    score = scorer._score(\n",
      "            ^^^^^^^^^^^^^^\n",
      "  File \"D:\\Applications\\Python\\Lib\\site-packages\\sklearn\\metrics\\_scorer.py\", line 371, in _score\n",
      "    y_pred = method_caller(\n",
      "             ^^^^^^^^^^^^^^\n",
      "  File \"D:\\Applications\\Python\\Lib\\site-packages\\sklearn\\metrics\\_scorer.py\", line 89, in _cached_call\n",
      "    result, _ = _get_response_values(\n",
      "                ^^^^^^^^^^^^^^^^^^^^^\n",
      "  File \"D:\\Applications\\Python\\Lib\\site-packages\\sklearn\\utils\\_response.py\", line 239, in _get_response_values\n",
      "    y_pred, pos_label = prediction_method(X), None\n",
      "                        ^^^^^^^^^^^^^^^^^^^^\n",
      "  File \"D:\\Applications\\Python\\Lib\\site-packages\\sklearn\\ensemble\\_voting.py\", line 716, in predict\n",
      "    return np.average(self._predict(X), axis=1, weights=self._weights_not_none)\n",
      "           ^^^^^^^^^^^^^^^^^^^^^^^^^^^^^^^^^^^^^^^^^^^^^^^^^^^^^^^^^^^^^^^^^^^^\n",
      "  File \"D:\\Applications\\Python\\Lib\\site-packages\\numpy\\lib\\function_base.py\", line 550, in average\n",
      "    raise ZeroDivisionError(\n",
      "ZeroDivisionError: Weights sum to zero, can't be normalized\n",
      "\n",
      "  warnings.warn(\n",
      "D:\\Applications\\Python\\Lib\\site-packages\\sklearn\\model_selection\\_validation.py:1000: UserWarning: Scoring failed. The score on this train-test partition for these parameters will be set to nan. Details: \n",
      "Traceback (most recent call last):\n",
      "  File \"D:\\Applications\\Python\\Lib\\site-packages\\sklearn\\metrics\\_scorer.py\", line 139, in __call__\n",
      "    score = scorer._score(\n",
      "            ^^^^^^^^^^^^^^\n",
      "  File \"D:\\Applications\\Python\\Lib\\site-packages\\sklearn\\metrics\\_scorer.py\", line 371, in _score\n",
      "    y_pred = method_caller(\n",
      "             ^^^^^^^^^^^^^^\n",
      "  File \"D:\\Applications\\Python\\Lib\\site-packages\\sklearn\\metrics\\_scorer.py\", line 89, in _cached_call\n",
      "    result, _ = _get_response_values(\n",
      "                ^^^^^^^^^^^^^^^^^^^^^\n",
      "  File \"D:\\Applications\\Python\\Lib\\site-packages\\sklearn\\utils\\_response.py\", line 239, in _get_response_values\n",
      "    y_pred, pos_label = prediction_method(X), None\n",
      "                        ^^^^^^^^^^^^^^^^^^^^\n",
      "  File \"D:\\Applications\\Python\\Lib\\site-packages\\sklearn\\ensemble\\_voting.py\", line 716, in predict\n",
      "    return np.average(self._predict(X), axis=1, weights=self._weights_not_none)\n",
      "           ^^^^^^^^^^^^^^^^^^^^^^^^^^^^^^^^^^^^^^^^^^^^^^^^^^^^^^^^^^^^^^^^^^^^\n",
      "  File \"D:\\Applications\\Python\\Lib\\site-packages\\numpy\\lib\\function_base.py\", line 550, in average\n",
      "    raise ZeroDivisionError(\n",
      "ZeroDivisionError: Weights sum to zero, can't be normalized\n",
      "\n",
      "  warnings.warn(\n",
      "D:\\Applications\\Python\\Lib\\site-packages\\sklearn\\model_selection\\_validation.py:1000: UserWarning: Scoring failed. The score on this train-test partition for these parameters will be set to nan. Details: \n",
      "Traceback (most recent call last):\n",
      "  File \"D:\\Applications\\Python\\Lib\\site-packages\\sklearn\\metrics\\_scorer.py\", line 139, in __call__\n",
      "    score = scorer._score(\n",
      "            ^^^^^^^^^^^^^^\n",
      "  File \"D:\\Applications\\Python\\Lib\\site-packages\\sklearn\\metrics\\_scorer.py\", line 371, in _score\n",
      "    y_pred = method_caller(\n",
      "             ^^^^^^^^^^^^^^\n",
      "  File \"D:\\Applications\\Python\\Lib\\site-packages\\sklearn\\metrics\\_scorer.py\", line 89, in _cached_call\n",
      "    result, _ = _get_response_values(\n",
      "                ^^^^^^^^^^^^^^^^^^^^^\n",
      "  File \"D:\\Applications\\Python\\Lib\\site-packages\\sklearn\\utils\\_response.py\", line 239, in _get_response_values\n",
      "    y_pred, pos_label = prediction_method(X), None\n",
      "                        ^^^^^^^^^^^^^^^^^^^^\n",
      "  File \"D:\\Applications\\Python\\Lib\\site-packages\\sklearn\\ensemble\\_voting.py\", line 716, in predict\n",
      "    return np.average(self._predict(X), axis=1, weights=self._weights_not_none)\n",
      "           ^^^^^^^^^^^^^^^^^^^^^^^^^^^^^^^^^^^^^^^^^^^^^^^^^^^^^^^^^^^^^^^^^^^^\n",
      "  File \"D:\\Applications\\Python\\Lib\\site-packages\\numpy\\lib\\function_base.py\", line 550, in average\n",
      "    raise ZeroDivisionError(\n",
      "ZeroDivisionError: Weights sum to zero, can't be normalized\n",
      "\n",
      "  warnings.warn(\n"
     ]
    },
    {
     "name": "stdout",
     "output_type": "stream",
     "text": [
      "Voting Regressor on i:0,j:0,k:0 -> nan\n",
      "Voting Regressor on i:0,j:0,k:1 -> 0.15\n",
      "Voting Regressor on i:0,j:0,k:2 -> 0.15\n",
      "Voting Regressor on i:0,j:0,k:3 -> 0.15\n",
      "Voting Regressor on i:0,j:1,k:0 -> -0.24\n",
      "Voting Regressor on i:0,j:1,k:1 -> 0.2\n",
      "Voting Regressor on i:0,j:1,k:2 -> 0.22\n",
      "Voting Regressor on i:0,j:1,k:3 -> 0.23\n",
      "Voting Regressor on i:0,j:2,k:0 -> -0.2\n",
      "Voting Regressor on i:0,j:2,k:1 -> 0.12\n",
      "Voting Regressor on i:0,j:2,k:2 -> 0.18\n",
      "Voting Regressor on i:0,j:2,k:3 -> 0.24\n",
      "Voting Regressor on i:0,j:3,k:0 -> -0.23\n",
      "Voting Regressor on i:0,j:3,k:1 -> 0.06\n",
      "Voting Regressor on i:0,j:3,k:2 -> 0.16\n",
      "Voting Regressor on i:0,j:3,k:3 -> 0.21\n",
      "Voting Regressor on i:1,j:0,k:0 -> 0.46\n",
      "Voting Regressor on i:1,j:0,k:1 -> 0.4\n",
      "Voting Regressor on i:1,j:0,k:2 -> 0.34\n",
      "Voting Regressor on i:1,j:0,k:3 -> 0.3\n",
      "Voting Regressor on i:1,j:1,k:0 -> 0.27\n",
      "Voting Regressor on i:1,j:1,k:1 -> 0.34\n",
      "Voting Regressor on i:1,j:1,k:2 -> 0.34\n",
      "Voting Regressor on i:1,j:1,k:3 -> 0.32\n",
      "Voting Regressor on i:1,j:2,k:0 -> 0.13\n",
      "Voting Regressor on i:1,j:2,k:1 -> 0.24\n",
      "Voting Regressor on i:1,j:2,k:2 -> 0.28\n",
      "Voting Regressor on i:1,j:2,k:3 -> 0.29\n",
      "Voting Regressor on i:1,j:3,k:0 -> 0.05\n",
      "Voting Regressor on i:1,j:3,k:1 -> 0.18\n",
      "Voting Regressor on i:1,j:3,k:2 -> 0.25\n",
      "Voting Regressor on i:1,j:3,k:3 -> 0.25\n",
      "Voting Regressor on i:2,j:0,k:0 -> 0.46\n",
      "Voting Regressor on i:2,j:0,k:1 -> 0.44\n",
      "Voting Regressor on i:2,j:0,k:2 -> 0.4\n",
      "Voting Regressor on i:2,j:0,k:3 -> 0.36\n",
      "Voting Regressor on i:2,j:1,k:0 -> 0.38\n",
      "Voting Regressor on i:2,j:1,k:1 -> 0.39\n",
      "Voting Regressor on i:2,j:1,k:2 -> 0.38\n",
      "Voting Regressor on i:2,j:1,k:3 -> 0.37\n",
      "Voting Regressor on i:2,j:2,k:0 -> 0.28\n",
      "Voting Regressor on i:2,j:2,k:1 -> 0.33\n",
      "Voting Regressor on i:2,j:2,k:2 -> 0.35\n",
      "Voting Regressor on i:2,j:2,k:3 -> 0.34\n",
      "Voting Regressor on i:2,j:3,k:0 -> 0.22\n",
      "Voting Regressor on i:2,j:3,k:1 -> 0.3\n",
      "Voting Regressor on i:2,j:3,k:2 -> 0.29\n",
      "Voting Regressor on i:2,j:3,k:3 -> 0.32\n",
      "Voting Regressor on i:3,j:0,k:0 -> 0.46\n",
      "Voting Regressor on i:3,j:0,k:1 -> 0.45\n",
      "Voting Regressor on i:3,j:0,k:2 -> 0.43\n",
      "Voting Regressor on i:3,j:0,k:3 -> 0.4\n",
      "Voting Regressor on i:3,j:1,k:0 -> 0.42\n",
      "Voting Regressor on i:3,j:1,k:1 -> 0.41\n",
      "Voting Regressor on i:3,j:1,k:2 -> 0.41\n",
      "Voting Regressor on i:3,j:1,k:3 -> 0.39\n",
      "Voting Regressor on i:3,j:2,k:0 -> 0.34\n",
      "Voting Regressor on i:3,j:2,k:1 -> 0.38\n",
      "Voting Regressor on i:3,j:2,k:2 -> 0.38\n",
      "Voting Regressor on i:3,j:2,k:3 -> 0.37\n",
      "Voting Regressor on i:3,j:3,k:0 -> 0.27\n",
      "Voting Regressor on i:3,j:3,k:1 -> 0.31\n",
      "Voting Regressor on i:3,j:3,k:2 -> 0.34\n",
      "Voting Regressor on i:3,j:3,k:3 -> 0.34\n",
      "Highest accuracy is 0 when i:0, j:0 & k:0.\n"
     ]
    }
   ],
   "source": [
    "from sklearn.ensemble import VotingRegressor\n",
    "from sklearn.model_selection import cross_val_score\n",
    "import numpy as np\n",
    "\n",
    "# Assuming `estimators` is a list of models you have already defined\n",
    "high_acc = -np.inf  # Initializing to a very low value\n",
    "i_m = 0\n",
    "j_m = 0\n",
    "k_m = 0\n",
    "\n",
    "# Iterate through different weight combinations for 3 models\n",
    "for i in range(1, 4):  # Starting from 1 to avoid zero weights\n",
    "    for j in range(1, 4):\n",
    "        for k in range(1, 4):\n",
    "            vr = VotingRegressor(estimators, weights=[i, j, k])\n",
    "            scores = cross_val_score(vr, X, y, scoring='r2', cv=10)\n",
    "            mean_score = np.mean(scores)\n",
    "            print(f\"Voting Regressor with weights i:{i}, j:{j}, k:{k} -> R2 score:\", np.round(mean_score, 2))\n",
    "            \n",
    "            # Compare the mean score to find the highest accuracy\n",
    "            if mean_score > high_acc:\n",
    "                high_acc = mean_score\n",
    "                i_m = i\n",
    "                j_m = j\n",
    "                k_m = k\n",
    "\n",
    "# Print the best combination of weights and the highest accuracy\n",
    "print(f\"Highest R2 score is {high_acc} with weights i:{i_m}, j:{j_m}, k:{k_m}.\")\n"
   ]
  },
  {
   "cell_type": "code",
   "execution_count": null,
   "id": "95f9459b-2f6b-49d3-bc56-a455249976ba",
   "metadata": {},
   "outputs": [],
   "source": []
  }
 ],
 "metadata": {
  "kernelspec": {
   "display_name": "Python 3 (ipykernel)",
   "language": "python",
   "name": "python3"
  },
  "language_info": {
   "codemirror_mode": {
    "name": "ipython",
    "version": 3
   },
   "file_extension": ".py",
   "mimetype": "text/x-python",
   "name": "python",
   "nbconvert_exporter": "python",
   "pygments_lexer": "ipython3",
   "version": "3.12.4"
  }
 },
 "nbformat": 4,
 "nbformat_minor": 5
}
